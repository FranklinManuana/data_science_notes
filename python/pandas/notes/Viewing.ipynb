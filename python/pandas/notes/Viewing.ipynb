{
 "cells": [
  {
   "cell_type": "code",
   "execution_count": 1,
   "id": "cb723778-c406-4550-9760-37d6dd021617",
   "metadata": {},
   "outputs": [],
   "source": [
    "import numpy as np"
   ]
  },
  {
   "cell_type": "code",
   "execution_count": 2,
   "id": "d376803c-5979-48a1-bb5e-d588e91180c2",
   "metadata": {},
   "outputs": [],
   "source": [
    "import pandas as pd"
   ]
  },
  {
   "cell_type": "markdown",
   "id": "90cfe833-a522-47c6-8b4c-d3589ad6bad5",
   "metadata": {},
   "source": [
    "## <u>Object Creation</u>"
   ]
  },
  {
   "cell_type": "code",
   "execution_count": 3,
   "id": "40f3c55a-047d-4f5c-a2ad-bad9fe5bf8dd",
   "metadata": {},
   "outputs": [],
   "source": [
    "s = pd.Series([1,3,5,np.nan,6,8])"
   ]
  },
  {
   "cell_type": "code",
   "execution_count": 4,
   "id": "28dbaa11-1695-49a6-8ab5-9d8f7b4eaffe",
   "metadata": {},
   "outputs": [
    {
     "data": {
      "text/plain": [
       "0    1.0\n",
       "1    3.0\n",
       "2    5.0\n",
       "3    NaN\n",
       "4    6.0\n",
       "5    8.0\n",
       "dtype: float64"
      ]
     },
     "execution_count": 4,
     "metadata": {},
     "output_type": "execute_result"
    }
   ],
   "source": [
    "s"
   ]
  },
  {
   "cell_type": "markdown",
   "id": "6e85ba14-77c8-4e2f-8294-c8b9287222d7",
   "metadata": {},
   "source": [
    "## Create a DataFrame by passing an np.array with datetime as index and labeled columns"
   ]
  },
  {
   "cell_type": "code",
   "execution_count": 5,
   "id": "e87158cf-f0bb-44f4-8437-af552a253817",
   "metadata": {},
   "outputs": [],
   "source": [
    "# Create date range to be used as index\n",
    "dates = pd.date_range('20130101', periods=6)"
   ]
  },
  {
   "cell_type": "code",
   "execution_count": 6,
   "id": "f80227c5-5476-464b-9a1a-2529cf832f68",
   "metadata": {},
   "outputs": [
    {
     "data": {
      "text/plain": [
       "DatetimeIndex(['2013-01-01', '2013-01-02', '2013-01-03', '2013-01-04',\n",
       "               '2013-01-05', '2013-01-06'],\n",
       "              dtype='datetime64[ns]', freq='D')"
      ]
     },
     "execution_count": 6,
     "metadata": {},
     "output_type": "execute_result"
    }
   ],
   "source": [
    "dates"
   ]
  },
  {
   "cell_type": "code",
   "execution_count": 7,
   "id": "efa0270c-e382-4f90-9a51-7963508d8313",
   "metadata": {},
   "outputs": [],
   "source": [
    "df = pd.DataFrame(np.random.randn(6,4), index=dates, columns=list('ABCD'))"
   ]
  },
  {
   "cell_type": "code",
   "execution_count": 8,
   "id": "b0ef43dc-335e-4765-ba11-90ffdd0e8c0b",
   "metadata": {},
   "outputs": [
    {
     "data": {
      "text/html": [
       "<div>\n",
       "<style scoped>\n",
       "    .dataframe tbody tr th:only-of-type {\n",
       "        vertical-align: middle;\n",
       "    }\n",
       "\n",
       "    .dataframe tbody tr th {\n",
       "        vertical-align: top;\n",
       "    }\n",
       "\n",
       "    .dataframe thead th {\n",
       "        text-align: right;\n",
       "    }\n",
       "</style>\n",
       "<table border=\"1\" class=\"dataframe\">\n",
       "  <thead>\n",
       "    <tr style=\"text-align: right;\">\n",
       "      <th></th>\n",
       "      <th>A</th>\n",
       "      <th>B</th>\n",
       "      <th>C</th>\n",
       "      <th>D</th>\n",
       "    </tr>\n",
       "  </thead>\n",
       "  <tbody>\n",
       "    <tr>\n",
       "      <th>2013-01-01</th>\n",
       "      <td>-1.214607</td>\n",
       "      <td>-1.296427</td>\n",
       "      <td>1.065995</td>\n",
       "      <td>0.129996</td>\n",
       "    </tr>\n",
       "    <tr>\n",
       "      <th>2013-01-02</th>\n",
       "      <td>-0.321355</td>\n",
       "      <td>-0.219069</td>\n",
       "      <td>-0.710173</td>\n",
       "      <td>1.367937</td>\n",
       "    </tr>\n",
       "    <tr>\n",
       "      <th>2013-01-03</th>\n",
       "      <td>1.971057</td>\n",
       "      <td>-0.461386</td>\n",
       "      <td>1.002142</td>\n",
       "      <td>-0.172001</td>\n",
       "    </tr>\n",
       "    <tr>\n",
       "      <th>2013-01-04</th>\n",
       "      <td>0.109596</td>\n",
       "      <td>-0.196429</td>\n",
       "      <td>0.199416</td>\n",
       "      <td>-2.858934</td>\n",
       "    </tr>\n",
       "    <tr>\n",
       "      <th>2013-01-05</th>\n",
       "      <td>0.506700</td>\n",
       "      <td>-0.482987</td>\n",
       "      <td>0.044358</td>\n",
       "      <td>0.394469</td>\n",
       "    </tr>\n",
       "    <tr>\n",
       "      <th>2013-01-06</th>\n",
       "      <td>-0.052377</td>\n",
       "      <td>1.111328</td>\n",
       "      <td>-0.834003</td>\n",
       "      <td>0.546172</td>\n",
       "    </tr>\n",
       "  </tbody>\n",
       "</table>\n",
       "</div>"
      ],
      "text/plain": [
       "                   A         B         C         D\n",
       "2013-01-01 -1.214607 -1.296427  1.065995  0.129996\n",
       "2013-01-02 -0.321355 -0.219069 -0.710173  1.367937\n",
       "2013-01-03  1.971057 -0.461386  1.002142 -0.172001\n",
       "2013-01-04  0.109596 -0.196429  0.199416 -2.858934\n",
       "2013-01-05  0.506700 -0.482987  0.044358  0.394469\n",
       "2013-01-06 -0.052377  1.111328 -0.834003  0.546172"
      ]
     },
     "execution_count": 8,
     "metadata": {},
     "output_type": "execute_result"
    }
   ],
   "source": [
    "df"
   ]
  },
  {
   "cell_type": "markdown",
   "id": "4c466d35-114e-457e-a321-9482eb1b2ad2",
   "metadata": {},
   "source": [
    "## Create a DataFrame from a dict of objects"
   ]
  },
  {
   "cell_type": "code",
   "execution_count": 12,
   "id": "3ac49864-c9fa-4e43-b6ac-d260cbf8cc4f",
   "metadata": {},
   "outputs": [],
   "source": [
    "df2 = pd.DataFrame({'A':1.0,\n",
    "                    'B':pd.Timestamp('20130102'),\n",
    "                    'C': pd.Series(1, index=list(range(4)), dtype='float32'),\n",
    "                    'D': np.array([3]*4, dtype='int32'),\n",
    "                    'E':pd.Categorical([\"test\", \"train\", \"test\", \"train\"]),\n",
    "                    'F': 'foo'})"
   ]
  },
  {
   "cell_type": "code",
   "execution_count": 13,
   "id": "065d90e2-3901-4c8b-9d8f-3b60dd959c02",
   "metadata": {},
   "outputs": [
    {
     "data": {
      "text/html": [
       "<div>\n",
       "<style scoped>\n",
       "    .dataframe tbody tr th:only-of-type {\n",
       "        vertical-align: middle;\n",
       "    }\n",
       "\n",
       "    .dataframe tbody tr th {\n",
       "        vertical-align: top;\n",
       "    }\n",
       "\n",
       "    .dataframe thead th {\n",
       "        text-align: right;\n",
       "    }\n",
       "</style>\n",
       "<table border=\"1\" class=\"dataframe\">\n",
       "  <thead>\n",
       "    <tr style=\"text-align: right;\">\n",
       "      <th></th>\n",
       "      <th>A</th>\n",
       "      <th>B</th>\n",
       "      <th>C</th>\n",
       "      <th>D</th>\n",
       "      <th>E</th>\n",
       "      <th>F</th>\n",
       "    </tr>\n",
       "  </thead>\n",
       "  <tbody>\n",
       "    <tr>\n",
       "      <th>0</th>\n",
       "      <td>1.0</td>\n",
       "      <td>2013-01-02</td>\n",
       "      <td>1.0</td>\n",
       "      <td>3</td>\n",
       "      <td>test</td>\n",
       "      <td>foo</td>\n",
       "    </tr>\n",
       "    <tr>\n",
       "      <th>1</th>\n",
       "      <td>1.0</td>\n",
       "      <td>2013-01-02</td>\n",
       "      <td>1.0</td>\n",
       "      <td>3</td>\n",
       "      <td>train</td>\n",
       "      <td>foo</td>\n",
       "    </tr>\n",
       "    <tr>\n",
       "      <th>2</th>\n",
       "      <td>1.0</td>\n",
       "      <td>2013-01-02</td>\n",
       "      <td>1.0</td>\n",
       "      <td>3</td>\n",
       "      <td>test</td>\n",
       "      <td>foo</td>\n",
       "    </tr>\n",
       "    <tr>\n",
       "      <th>3</th>\n",
       "      <td>1.0</td>\n",
       "      <td>2013-01-02</td>\n",
       "      <td>1.0</td>\n",
       "      <td>3</td>\n",
       "      <td>train</td>\n",
       "      <td>foo</td>\n",
       "    </tr>\n",
       "  </tbody>\n",
       "</table>\n",
       "</div>"
      ],
      "text/plain": [
       "     A          B    C  D      E    F\n",
       "0  1.0 2013-01-02  1.0  3   test  foo\n",
       "1  1.0 2013-01-02  1.0  3  train  foo\n",
       "2  1.0 2013-01-02  1.0  3   test  foo\n",
       "3  1.0 2013-01-02  1.0  3  train  foo"
      ]
     },
     "execution_count": 13,
     "metadata": {},
     "output_type": "execute_result"
    }
   ],
   "source": [
    "df2"
   ]
  },
  {
   "cell_type": "code",
   "execution_count": 14,
   "id": "f3a81361-39d2-40a6-bd53-3ceb812922e6",
   "metadata": {},
   "outputs": [
    {
     "data": {
      "text/plain": [
       "A          float64\n",
       "B    datetime64[s]\n",
       "C          float32\n",
       "D            int32\n",
       "E         category\n",
       "F           object\n",
       "dtype: object"
      ]
     },
     "execution_count": 14,
     "metadata": {},
     "output_type": "execute_result"
    }
   ],
   "source": [
    "df2.dtypes"
   ]
  },
  {
   "cell_type": "markdown",
   "id": "13f47f52-6d25-4dbc-8744-c696200ea49a",
   "metadata": {},
   "source": [
    "## Viewing Data"
   ]
  },
  {
   "cell_type": "code",
   "execution_count": 15,
   "id": "0b381380-0a03-4768-aaa1-f4f854114ad1",
   "metadata": {},
   "outputs": [
    {
     "data": {
      "text/html": [
       "<div>\n",
       "<style scoped>\n",
       "    .dataframe tbody tr th:only-of-type {\n",
       "        vertical-align: middle;\n",
       "    }\n",
       "\n",
       "    .dataframe tbody tr th {\n",
       "        vertical-align: top;\n",
       "    }\n",
       "\n",
       "    .dataframe thead th {\n",
       "        text-align: right;\n",
       "    }\n",
       "</style>\n",
       "<table border=\"1\" class=\"dataframe\">\n",
       "  <thead>\n",
       "    <tr style=\"text-align: right;\">\n",
       "      <th></th>\n",
       "      <th>A</th>\n",
       "      <th>B</th>\n",
       "      <th>C</th>\n",
       "      <th>D</th>\n",
       "    </tr>\n",
       "  </thead>\n",
       "  <tbody>\n",
       "    <tr>\n",
       "      <th>2013-01-01</th>\n",
       "      <td>-1.214607</td>\n",
       "      <td>-1.296427</td>\n",
       "      <td>1.065995</td>\n",
       "      <td>0.129996</td>\n",
       "    </tr>\n",
       "    <tr>\n",
       "      <th>2013-01-02</th>\n",
       "      <td>-0.321355</td>\n",
       "      <td>-0.219069</td>\n",
       "      <td>-0.710173</td>\n",
       "      <td>1.367937</td>\n",
       "    </tr>\n",
       "    <tr>\n",
       "      <th>2013-01-03</th>\n",
       "      <td>1.971057</td>\n",
       "      <td>-0.461386</td>\n",
       "      <td>1.002142</td>\n",
       "      <td>-0.172001</td>\n",
       "    </tr>\n",
       "    <tr>\n",
       "      <th>2013-01-04</th>\n",
       "      <td>0.109596</td>\n",
       "      <td>-0.196429</td>\n",
       "      <td>0.199416</td>\n",
       "      <td>-2.858934</td>\n",
       "    </tr>\n",
       "    <tr>\n",
       "      <th>2013-01-05</th>\n",
       "      <td>0.506700</td>\n",
       "      <td>-0.482987</td>\n",
       "      <td>0.044358</td>\n",
       "      <td>0.394469</td>\n",
       "    </tr>\n",
       "  </tbody>\n",
       "</table>\n",
       "</div>"
      ],
      "text/plain": [
       "                   A         B         C         D\n",
       "2013-01-01 -1.214607 -1.296427  1.065995  0.129996\n",
       "2013-01-02 -0.321355 -0.219069 -0.710173  1.367937\n",
       "2013-01-03  1.971057 -0.461386  1.002142 -0.172001\n",
       "2013-01-04  0.109596 -0.196429  0.199416 -2.858934\n",
       "2013-01-05  0.506700 -0.482987  0.044358  0.394469"
      ]
     },
     "execution_count": 15,
     "metadata": {},
     "output_type": "execute_result"
    }
   ],
   "source": [
    "df.head()"
   ]
  },
  {
   "cell_type": "code",
   "execution_count": 16,
   "id": "5a967726-ac77-4af7-a051-06f96e912843",
   "metadata": {},
   "outputs": [
    {
     "data": {
      "text/plain": [
       "DatetimeIndex(['2013-01-01', '2013-01-02', '2013-01-03', '2013-01-04',\n",
       "               '2013-01-05', '2013-01-06'],\n",
       "              dtype='datetime64[ns]', freq='D')"
      ]
     },
     "execution_count": 16,
     "metadata": {},
     "output_type": "execute_result"
    }
   ],
   "source": [
    "df.index"
   ]
  },
  {
   "cell_type": "code",
   "execution_count": 17,
   "id": "bccc3248-12f0-4664-9d37-acdb36dc1cf7",
   "metadata": {},
   "outputs": [
    {
     "data": {
      "text/plain": [
       "Index(['A', 'B', 'C', 'D'], dtype='object')"
      ]
     },
     "execution_count": 17,
     "metadata": {},
     "output_type": "execute_result"
    }
   ],
   "source": [
    "df.columns"
   ]
  },
  {
   "cell_type": "code",
   "execution_count": 18,
   "id": "31b470e7-d6a0-4fd9-ad5c-b209f548c52b",
   "metadata": {},
   "outputs": [
    {
     "data": {
      "text/plain": [
       "array([[-1.21460696, -1.29642743,  1.06599532,  0.12999645],\n",
       "       [-0.32135455, -0.21906944, -0.7101732 ,  1.36793691],\n",
       "       [ 1.97105702, -0.46138627,  1.00214224, -0.17200051],\n",
       "       [ 0.10959648, -0.19642945,  0.19941607, -2.85893368],\n",
       "       [ 0.50669958, -0.48298726,  0.04435751,  0.39446934],\n",
       "       [-0.05237663,  1.11132845, -0.83400339,  0.54617242]])"
      ]
     },
     "execution_count": 18,
     "metadata": {},
     "output_type": "execute_result"
    }
   ],
   "source": [
    "# convert DataFrame to numpy array\n",
    "df.to_numpy()"
   ]
  },
  {
   "cell_type": "code",
   "execution_count": 19,
   "id": "889432ee-a469-484a-bb11-67418c5e560c",
   "metadata": {},
   "outputs": [
    {
     "data": {
      "text/html": [
       "<div>\n",
       "<style scoped>\n",
       "    .dataframe tbody tr th:only-of-type {\n",
       "        vertical-align: middle;\n",
       "    }\n",
       "\n",
       "    .dataframe tbody tr th {\n",
       "        vertical-align: top;\n",
       "    }\n",
       "\n",
       "    .dataframe thead th {\n",
       "        text-align: right;\n",
       "    }\n",
       "</style>\n",
       "<table border=\"1\" class=\"dataframe\">\n",
       "  <thead>\n",
       "    <tr style=\"text-align: right;\">\n",
       "      <th></th>\n",
       "      <th>A</th>\n",
       "      <th>B</th>\n",
       "      <th>C</th>\n",
       "      <th>D</th>\n",
       "    </tr>\n",
       "  </thead>\n",
       "  <tbody>\n",
       "    <tr>\n",
       "      <th>count</th>\n",
       "      <td>6.000000</td>\n",
       "      <td>6.000000</td>\n",
       "      <td>6.000000</td>\n",
       "      <td>6.000000</td>\n",
       "    </tr>\n",
       "    <tr>\n",
       "      <th>mean</th>\n",
       "      <td>0.166502</td>\n",
       "      <td>-0.257495</td>\n",
       "      <td>0.127956</td>\n",
       "      <td>-0.098727</td>\n",
       "    </tr>\n",
       "    <tr>\n",
       "      <th>std</th>\n",
       "      <td>1.055345</td>\n",
       "      <td>0.781112</td>\n",
       "      <td>0.810437</td>\n",
       "      <td>1.448217</td>\n",
       "    </tr>\n",
       "    <tr>\n",
       "      <th>min</th>\n",
       "      <td>-1.214607</td>\n",
       "      <td>-1.296427</td>\n",
       "      <td>-0.834003</td>\n",
       "      <td>-2.858934</td>\n",
       "    </tr>\n",
       "    <tr>\n",
       "      <th>25%</th>\n",
       "      <td>-0.254110</td>\n",
       "      <td>-0.477587</td>\n",
       "      <td>-0.521541</td>\n",
       "      <td>-0.096501</td>\n",
       "    </tr>\n",
       "    <tr>\n",
       "      <th>50%</th>\n",
       "      <td>0.028610</td>\n",
       "      <td>-0.340228</td>\n",
       "      <td>0.121887</td>\n",
       "      <td>0.262233</td>\n",
       "    </tr>\n",
       "    <tr>\n",
       "      <th>75%</th>\n",
       "      <td>0.407424</td>\n",
       "      <td>-0.202089</td>\n",
       "      <td>0.801461</td>\n",
       "      <td>0.508247</td>\n",
       "    </tr>\n",
       "    <tr>\n",
       "      <th>max</th>\n",
       "      <td>1.971057</td>\n",
       "      <td>1.111328</td>\n",
       "      <td>1.065995</td>\n",
       "      <td>1.367937</td>\n",
       "    </tr>\n",
       "  </tbody>\n",
       "</table>\n",
       "</div>"
      ],
      "text/plain": [
       "              A         B         C         D\n",
       "count  6.000000  6.000000  6.000000  6.000000\n",
       "mean   0.166502 -0.257495  0.127956 -0.098727\n",
       "std    1.055345  0.781112  0.810437  1.448217\n",
       "min   -1.214607 -1.296427 -0.834003 -2.858934\n",
       "25%   -0.254110 -0.477587 -0.521541 -0.096501\n",
       "50%    0.028610 -0.340228  0.121887  0.262233\n",
       "75%    0.407424 -0.202089  0.801461  0.508247\n",
       "max    1.971057  1.111328  1.065995  1.367937"
      ]
     },
     "execution_count": 19,
     "metadata": {},
     "output_type": "execute_result"
    }
   ],
   "source": [
    "df.describe()"
   ]
  },
  {
   "cell_type": "code",
   "execution_count": 20,
   "id": "0e404ab0-9eb7-4157-a42c-5487e565057c",
   "metadata": {},
   "outputs": [
    {
     "data": {
      "text/html": [
       "<div>\n",
       "<style scoped>\n",
       "    .dataframe tbody tr th:only-of-type {\n",
       "        vertical-align: middle;\n",
       "    }\n",
       "\n",
       "    .dataframe tbody tr th {\n",
       "        vertical-align: top;\n",
       "    }\n",
       "\n",
       "    .dataframe thead th {\n",
       "        text-align: right;\n",
       "    }\n",
       "</style>\n",
       "<table border=\"1\" class=\"dataframe\">\n",
       "  <thead>\n",
       "    <tr style=\"text-align: right;\">\n",
       "      <th></th>\n",
       "      <th>2013-01-01</th>\n",
       "      <th>2013-01-02</th>\n",
       "      <th>2013-01-03</th>\n",
       "      <th>2013-01-04</th>\n",
       "      <th>2013-01-05</th>\n",
       "      <th>2013-01-06</th>\n",
       "    </tr>\n",
       "  </thead>\n",
       "  <tbody>\n",
       "    <tr>\n",
       "      <th>A</th>\n",
       "      <td>-1.214607</td>\n",
       "      <td>-0.321355</td>\n",
       "      <td>1.971057</td>\n",
       "      <td>0.109596</td>\n",
       "      <td>0.506700</td>\n",
       "      <td>-0.052377</td>\n",
       "    </tr>\n",
       "    <tr>\n",
       "      <th>B</th>\n",
       "      <td>-1.296427</td>\n",
       "      <td>-0.219069</td>\n",
       "      <td>-0.461386</td>\n",
       "      <td>-0.196429</td>\n",
       "      <td>-0.482987</td>\n",
       "      <td>1.111328</td>\n",
       "    </tr>\n",
       "    <tr>\n",
       "      <th>C</th>\n",
       "      <td>1.065995</td>\n",
       "      <td>-0.710173</td>\n",
       "      <td>1.002142</td>\n",
       "      <td>0.199416</td>\n",
       "      <td>0.044358</td>\n",
       "      <td>-0.834003</td>\n",
       "    </tr>\n",
       "    <tr>\n",
       "      <th>D</th>\n",
       "      <td>0.129996</td>\n",
       "      <td>1.367937</td>\n",
       "      <td>-0.172001</td>\n",
       "      <td>-2.858934</td>\n",
       "      <td>0.394469</td>\n",
       "      <td>0.546172</td>\n",
       "    </tr>\n",
       "  </tbody>\n",
       "</table>\n",
       "</div>"
      ],
      "text/plain": [
       "   2013-01-01  2013-01-02  2013-01-03  2013-01-04  2013-01-05  2013-01-06\n",
       "A   -1.214607   -0.321355    1.971057    0.109596    0.506700   -0.052377\n",
       "B   -1.296427   -0.219069   -0.461386   -0.196429   -0.482987    1.111328\n",
       "C    1.065995   -0.710173    1.002142    0.199416    0.044358   -0.834003\n",
       "D    0.129996    1.367937   -0.172001   -2.858934    0.394469    0.546172"
      ]
     },
     "execution_count": 20,
     "metadata": {},
     "output_type": "execute_result"
    }
   ],
   "source": [
    "# Transposing data (rows become columns and columns become rows)\n",
    "df.T"
   ]
  },
  {
   "cell_type": "code",
   "execution_count": 21,
   "id": "649aa0c6-9388-454e-81cb-6895959d7fc4",
   "metadata": {},
   "outputs": [
    {
     "data": {
      "text/html": [
       "<div>\n",
       "<style scoped>\n",
       "    .dataframe tbody tr th:only-of-type {\n",
       "        vertical-align: middle;\n",
       "    }\n",
       "\n",
       "    .dataframe tbody tr th {\n",
       "        vertical-align: top;\n",
       "    }\n",
       "\n",
       "    .dataframe thead th {\n",
       "        text-align: right;\n",
       "    }\n",
       "</style>\n",
       "<table border=\"1\" class=\"dataframe\">\n",
       "  <thead>\n",
       "    <tr style=\"text-align: right;\">\n",
       "      <th></th>\n",
       "      <th>D</th>\n",
       "      <th>C</th>\n",
       "      <th>B</th>\n",
       "      <th>A</th>\n",
       "    </tr>\n",
       "  </thead>\n",
       "  <tbody>\n",
       "    <tr>\n",
       "      <th>2013-01-01</th>\n",
       "      <td>0.129996</td>\n",
       "      <td>1.065995</td>\n",
       "      <td>-1.296427</td>\n",
       "      <td>-1.214607</td>\n",
       "    </tr>\n",
       "    <tr>\n",
       "      <th>2013-01-02</th>\n",
       "      <td>1.367937</td>\n",
       "      <td>-0.710173</td>\n",
       "      <td>-0.219069</td>\n",
       "      <td>-0.321355</td>\n",
       "    </tr>\n",
       "    <tr>\n",
       "      <th>2013-01-03</th>\n",
       "      <td>-0.172001</td>\n",
       "      <td>1.002142</td>\n",
       "      <td>-0.461386</td>\n",
       "      <td>1.971057</td>\n",
       "    </tr>\n",
       "    <tr>\n",
       "      <th>2013-01-04</th>\n",
       "      <td>-2.858934</td>\n",
       "      <td>0.199416</td>\n",
       "      <td>-0.196429</td>\n",
       "      <td>0.109596</td>\n",
       "    </tr>\n",
       "    <tr>\n",
       "      <th>2013-01-05</th>\n",
       "      <td>0.394469</td>\n",
       "      <td>0.044358</td>\n",
       "      <td>-0.482987</td>\n",
       "      <td>0.506700</td>\n",
       "    </tr>\n",
       "    <tr>\n",
       "      <th>2013-01-06</th>\n",
       "      <td>0.546172</td>\n",
       "      <td>-0.834003</td>\n",
       "      <td>1.111328</td>\n",
       "      <td>-0.052377</td>\n",
       "    </tr>\n",
       "  </tbody>\n",
       "</table>\n",
       "</div>"
      ],
      "text/plain": [
       "                   D         C         B         A\n",
       "2013-01-01  0.129996  1.065995 -1.296427 -1.214607\n",
       "2013-01-02  1.367937 -0.710173 -0.219069 -0.321355\n",
       "2013-01-03 -0.172001  1.002142 -0.461386  1.971057\n",
       "2013-01-04 -2.858934  0.199416 -0.196429  0.109596\n",
       "2013-01-05  0.394469  0.044358 -0.482987  0.506700\n",
       "2013-01-06  0.546172 -0.834003  1.111328 -0.052377"
      ]
     },
     "execution_count": 21,
     "metadata": {},
     "output_type": "execute_result"
    }
   ],
   "source": [
    "# Sort by column name\n",
    "df.sort_index(axis=1, ascending=False)"
   ]
  },
  {
   "cell_type": "code",
   "execution_count": 22,
   "id": "b7eaaaa0-96bd-4515-b868-6c6382512b1f",
   "metadata": {},
   "outputs": [
    {
     "data": {
      "text/html": [
       "<div>\n",
       "<style scoped>\n",
       "    .dataframe tbody tr th:only-of-type {\n",
       "        vertical-align: middle;\n",
       "    }\n",
       "\n",
       "    .dataframe tbody tr th {\n",
       "        vertical-align: top;\n",
       "    }\n",
       "\n",
       "    .dataframe thead th {\n",
       "        text-align: right;\n",
       "    }\n",
       "</style>\n",
       "<table border=\"1\" class=\"dataframe\">\n",
       "  <thead>\n",
       "    <tr style=\"text-align: right;\">\n",
       "      <th></th>\n",
       "      <th>A</th>\n",
       "      <th>B</th>\n",
       "      <th>C</th>\n",
       "      <th>D</th>\n",
       "    </tr>\n",
       "  </thead>\n",
       "  <tbody>\n",
       "    <tr>\n",
       "      <th>2013-01-01</th>\n",
       "      <td>-1.214607</td>\n",
       "      <td>-1.296427</td>\n",
       "      <td>1.065995</td>\n",
       "      <td>0.129996</td>\n",
       "    </tr>\n",
       "    <tr>\n",
       "      <th>2013-01-05</th>\n",
       "      <td>0.506700</td>\n",
       "      <td>-0.482987</td>\n",
       "      <td>0.044358</td>\n",
       "      <td>0.394469</td>\n",
       "    </tr>\n",
       "    <tr>\n",
       "      <th>2013-01-03</th>\n",
       "      <td>1.971057</td>\n",
       "      <td>-0.461386</td>\n",
       "      <td>1.002142</td>\n",
       "      <td>-0.172001</td>\n",
       "    </tr>\n",
       "    <tr>\n",
       "      <th>2013-01-02</th>\n",
       "      <td>-0.321355</td>\n",
       "      <td>-0.219069</td>\n",
       "      <td>-0.710173</td>\n",
       "      <td>1.367937</td>\n",
       "    </tr>\n",
       "    <tr>\n",
       "      <th>2013-01-04</th>\n",
       "      <td>0.109596</td>\n",
       "      <td>-0.196429</td>\n",
       "      <td>0.199416</td>\n",
       "      <td>-2.858934</td>\n",
       "    </tr>\n",
       "    <tr>\n",
       "      <th>2013-01-06</th>\n",
       "      <td>-0.052377</td>\n",
       "      <td>1.111328</td>\n",
       "      <td>-0.834003</td>\n",
       "      <td>0.546172</td>\n",
       "    </tr>\n",
       "  </tbody>\n",
       "</table>\n",
       "</div>"
      ],
      "text/plain": [
       "                   A         B         C         D\n",
       "2013-01-01 -1.214607 -1.296427  1.065995  0.129996\n",
       "2013-01-05  0.506700 -0.482987  0.044358  0.394469\n",
       "2013-01-03  1.971057 -0.461386  1.002142 -0.172001\n",
       "2013-01-02 -0.321355 -0.219069 -0.710173  1.367937\n",
       "2013-01-04  0.109596 -0.196429  0.199416 -2.858934\n",
       "2013-01-06 -0.052377  1.111328 -0.834003  0.546172"
      ]
     },
     "execution_count": 22,
     "metadata": {},
     "output_type": "execute_result"
    }
   ],
   "source": [
    "# Sort DataFrame by specific column values.\n",
    "df.sort_values(by='B')"
   ]
  },
  {
   "cell_type": "code",
   "execution_count": null,
   "id": "8d4d0629-af4d-4bd5-85eb-b8d6c6a8f430",
   "metadata": {},
   "outputs": [],
   "source": []
  }
 ],
 "metadata": {
  "kernelspec": {
   "display_name": "Python 3 (ipykernel)",
   "language": "python",
   "name": "python3"
  },
  "language_info": {
   "codemirror_mode": {
    "name": "ipython",
    "version": 3
   },
   "file_extension": ".py",
   "mimetype": "text/x-python",
   "name": "python",
   "nbconvert_exporter": "python",
   "pygments_lexer": "ipython3",
   "version": "3.12.7"
  }
 },
 "nbformat": 4,
 "nbformat_minor": 5
}
