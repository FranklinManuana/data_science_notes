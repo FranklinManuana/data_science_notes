{
 "cells": [
  {
   "cell_type": "markdown",
   "metadata": {},
   "source": [
    "## Pandas Accessing Data"
   ]
  },
  {
   "cell_type": "code",
   "execution_count": 1,
   "metadata": {},
   "outputs": [],
   "source": [
    "import pandas as pd\n",
    "import numpy as np\n",
    "\n",
    "# initialize some sample data\n",
    "dates = pd.date_range('20130101', periods=6)\n",
    "random_df = pd.DataFrame(np.random.randn(6, 4), index=dates, columns=list('ABCD'))\n",
    "random_df_original = random_df.copy()\n"
   ]
  },
  {
   "cell_type": "markdown",
   "metadata": {},
   "source": [
    "## Getting Specific Data\n",
    "\n",
    "Below is a cheatsheet of different accessing methods. "
   ]
  },
  {
   "cell_type": "markdown",
   "metadata": {},
   "source": [
    "| Operation                         | Syntax              | Result      |\n",
    "|-----------------------------------|---------------------|-------------|\n",
    "| Select column                     | df[col]             | Series      |\n",
    "| Select row by label               | df.loc[label]       | Series      |\n",
    "| Select row by integer location    | df.iloc[loc]        | Series      |\n",
    "| Select row AND column by label               | df.loc[row label, column label]       | Depends     |\n",
    "| Select row AND column by integer location    | df.iloc[row int, column int]        | Depends     |\n",
    "| Slice rows                        | df[5:10]            | DataFrame   |\n",
    "| Select rows by boolean vector     | df[bool_vec]        | DataFrame   |\n"
   ]
  },
  {
   "cell_type": "markdown",
   "metadata": {},
   "source": [
    "The datatype of the output is determined automatically based on the output's dimensions. \n",
    "\n",
    "For example, if we index multiple rows and columns, the object remains a dataframe - it's still '2D'.\n",
    "\n",
    "If we index only a single row, or a single column, we get a Series - its '1D' now.\n",
    "\n",
    "If we index exactly one row and one column, we get a single value - so its just whatever datatype is stored there (i.e. int, float, str, etc).\n",
    "\n",
    "Two edge-case exceptions to this are shown at the bottom. If we slice exactly one row, as in `df[0:1]`, we still get a DataFrame. Also, if we select rows of a dataframe with only one column with a boolean vector, it stays a dataframe."
   ]
  },
  {
   "cell_type": "markdown",
   "metadata": {},
   "source": [
    "### Select Columns With `[ ]`"
   ]
  },
  {
   "cell_type": "code",
   "execution_count": 2,
   "metadata": {},
   "outputs": [
    {
     "data": {
      "text/plain": [
       "2013-01-01   -0.160303\n",
       "2013-01-02    1.137589\n",
       "2013-01-03   -0.877550\n",
       "2013-01-04    1.288791\n",
       "2013-01-05   -0.968469\n",
       "2013-01-06    0.604207\n",
       "Freq: D, Name: A, dtype: float64"
      ]
     },
     "execution_count": 2,
     "metadata": {},
     "output_type": "execute_result"
    }
   ],
   "source": [
    "random_df['A']"
   ]
  },
  {
   "cell_type": "markdown",
   "metadata": {},
   "source": [
    "You can also index multiple columns by passing a List. Note that the syntax here is `df[['A', 'B']]` with list brackets inside the index brackets, not `df['A', 'B']`."
   ]
  },
  {
   "cell_type": "code",
   "execution_count": 3,
   "metadata": {},
   "outputs": [
    {
     "data": {
      "text/html": [
       "<div>\n",
       "<style scoped>\n",
       "    .dataframe tbody tr th:only-of-type {\n",
       "        vertical-align: middle;\n",
       "    }\n",
       "\n",
       "    .dataframe tbody tr th {\n",
       "        vertical-align: top;\n",
       "    }\n",
       "\n",
       "    .dataframe thead th {\n",
       "        text-align: right;\n",
       "    }\n",
       "</style>\n",
       "<table border=\"1\" class=\"dataframe\">\n",
       "  <thead>\n",
       "    <tr style=\"text-align: right;\">\n",
       "      <th></th>\n",
       "      <th>A</th>\n",
       "      <th>B</th>\n",
       "      <th>D</th>\n",
       "    </tr>\n",
       "  </thead>\n",
       "  <tbody>\n",
       "    <tr>\n",
       "      <th>2013-01-01</th>\n",
       "      <td>-0.160303</td>\n",
       "      <td>-0.526345</td>\n",
       "      <td>-1.079023</td>\n",
       "    </tr>\n",
       "    <tr>\n",
       "      <th>2013-01-02</th>\n",
       "      <td>1.137589</td>\n",
       "      <td>-0.359006</td>\n",
       "      <td>1.303678</td>\n",
       "    </tr>\n",
       "    <tr>\n",
       "      <th>2013-01-03</th>\n",
       "      <td>-0.877550</td>\n",
       "      <td>-0.151404</td>\n",
       "      <td>-0.724962</td>\n",
       "    </tr>\n",
       "    <tr>\n",
       "      <th>2013-01-04</th>\n",
       "      <td>1.288791</td>\n",
       "      <td>-0.406711</td>\n",
       "      <td>-0.766468</td>\n",
       "    </tr>\n",
       "    <tr>\n",
       "      <th>2013-01-05</th>\n",
       "      <td>-0.968469</td>\n",
       "      <td>-0.214320</td>\n",
       "      <td>1.490912</td>\n",
       "    </tr>\n",
       "    <tr>\n",
       "      <th>2013-01-06</th>\n",
       "      <td>0.604207</td>\n",
       "      <td>0.866014</td>\n",
       "      <td>0.030036</td>\n",
       "    </tr>\n",
       "  </tbody>\n",
       "</table>\n",
       "</div>"
      ],
      "text/plain": [
       "                   A         B         D\n",
       "2013-01-01 -0.160303 -0.526345 -1.079023\n",
       "2013-01-02  1.137589 -0.359006  1.303678\n",
       "2013-01-03 -0.877550 -0.151404 -0.724962\n",
       "2013-01-04  1.288791 -0.406711 -0.766468\n",
       "2013-01-05 -0.968469 -0.214320  1.490912\n",
       "2013-01-06  0.604207  0.866014  0.030036"
      ]
     },
     "execution_count": 3,
     "metadata": {},
     "output_type": "execute_result"
    }
   ],
   "source": [
    "random_df[['A', 'B', 'D']]"
   ]
  },
  {
   "cell_type": "markdown",
   "metadata": {},
   "source": [
    "> Note: It is also possible to index columns using the syntax `df.A` which is equivalent to `df['A']`.\n",
    "\n",
    "> However, it is not best practice to do this because of possible confusion with DataFrame methods (example below)."
   ]
  },
  {
   "cell_type": "code",
   "execution_count": 4,
   "metadata": {},
   "outputs": [
    {
     "name": "stdout",
     "output_type": "stream",
     "text": [
      "True\n",
      "False\n",
      "What's in random_df.rank? <class 'method'>\n"
     ]
    }
   ],
   "source": [
    "random_df['rank'] = range(1,7) # new column called rank with values 1-6\n",
    "\n",
    "print((random_df['A'] == random_df.A).all()) # are these the same? Yes\n",
    "\n",
    "print((random_df['rank'] == random_df.rank).all()) # are these the same? No\n",
    "\n",
    "print(f\"What's in random_df.rank? {type(random_df.rank)}\")"
   ]
  },
  {
   "cell_type": "markdown",
   "metadata": {},
   "source": [
    "> `df.rank` and `df['rank']` are not the same, because `.rank` is a special name for a function that acts on a dataframe (think like `.sort()` or similar).\n",
    "\n",
    "> `df['rank']` syntax is safer, so is preferrable."
   ]
  },
  {
   "cell_type": "markdown",
   "metadata": {},
   "source": [
    "### Slicing Rows with `[ ]`\n",
    "\n",
    "Square brackets can also slice rows.\n",
    "- If you pass a single string or list of strings, it interprets as column names\n",
    "- If you pass a slice (i.e. with `:`), it will slice the rows\n",
    "\n",
    "Slicing DataFrames follows the same rules as slicing NumPy Arrays, except you cannot slice both rows and columns, only rows."
   ]
  },
  {
   "cell_type": "code",
   "execution_count": 5,
   "metadata": {},
   "outputs": [
    {
     "data": {
      "text/html": [
       "<div>\n",
       "<style scoped>\n",
       "    .dataframe tbody tr th:only-of-type {\n",
       "        vertical-align: middle;\n",
       "    }\n",
       "\n",
       "    .dataframe tbody tr th {\n",
       "        vertical-align: top;\n",
       "    }\n",
       "\n",
       "    .dataframe thead th {\n",
       "        text-align: right;\n",
       "    }\n",
       "</style>\n",
       "<table border=\"1\" class=\"dataframe\">\n",
       "  <thead>\n",
       "    <tr style=\"text-align: right;\">\n",
       "      <th></th>\n",
       "      <th>A</th>\n",
       "      <th>B</th>\n",
       "      <th>C</th>\n",
       "      <th>D</th>\n",
       "      <th>rank</th>\n",
       "    </tr>\n",
       "  </thead>\n",
       "  <tbody>\n",
       "    <tr>\n",
       "      <th>2013-01-01</th>\n",
       "      <td>-0.160303</td>\n",
       "      <td>-0.526345</td>\n",
       "      <td>-0.897152</td>\n",
       "      <td>-1.079023</td>\n",
       "      <td>1</td>\n",
       "    </tr>\n",
       "    <tr>\n",
       "      <th>2013-01-02</th>\n",
       "      <td>1.137589</td>\n",
       "      <td>-0.359006</td>\n",
       "      <td>-0.700380</td>\n",
       "      <td>1.303678</td>\n",
       "      <td>2</td>\n",
       "    </tr>\n",
       "  </tbody>\n",
       "</table>\n",
       "</div>"
      ],
      "text/plain": [
       "                   A         B         C         D  rank\n",
       "2013-01-01 -0.160303 -0.526345 -0.897152 -1.079023     1\n",
       "2013-01-02  1.137589 -0.359006 -0.700380  1.303678     2"
      ]
     },
     "execution_count": 5,
     "metadata": {},
     "output_type": "execute_result"
    }
   ],
   "source": [
    "random_df[0:2]\n",
    "\n",
    "##This one throws an error\n",
    "# random_df[0:2, 0:2]"
   ]
  },
  {
   "cell_type": "markdown",
   "metadata": {},
   "source": [
    "You can also slice using index labels. Interestingly, this also includes the final 'stop' label (`2013-01-03` here), while numerical slices do not."
   ]
  },
  {
   "cell_type": "code",
   "execution_count": 6,
   "metadata": {},
   "outputs": [
    {
     "data": {
      "text/html": [
       "<div>\n",
       "<style scoped>\n",
       "    .dataframe tbody tr th:only-of-type {\n",
       "        vertical-align: middle;\n",
       "    }\n",
       "\n",
       "    .dataframe tbody tr th {\n",
       "        vertical-align: top;\n",
       "    }\n",
       "\n",
       "    .dataframe thead th {\n",
       "        text-align: right;\n",
       "    }\n",
       "</style>\n",
       "<table border=\"1\" class=\"dataframe\">\n",
       "  <thead>\n",
       "    <tr style=\"text-align: right;\">\n",
       "      <th></th>\n",
       "      <th>A</th>\n",
       "      <th>B</th>\n",
       "      <th>C</th>\n",
       "      <th>D</th>\n",
       "      <th>rank</th>\n",
       "    </tr>\n",
       "  </thead>\n",
       "  <tbody>\n",
       "    <tr>\n",
       "      <th>2013-01-01</th>\n",
       "      <td>-0.160303</td>\n",
       "      <td>-0.526345</td>\n",
       "      <td>-0.897152</td>\n",
       "      <td>-1.079023</td>\n",
       "      <td>1</td>\n",
       "    </tr>\n",
       "    <tr>\n",
       "      <th>2013-01-02</th>\n",
       "      <td>1.137589</td>\n",
       "      <td>-0.359006</td>\n",
       "      <td>-0.700380</td>\n",
       "      <td>1.303678</td>\n",
       "      <td>2</td>\n",
       "    </tr>\n",
       "    <tr>\n",
       "      <th>2013-01-03</th>\n",
       "      <td>-0.877550</td>\n",
       "      <td>-0.151404</td>\n",
       "      <td>0.078737</td>\n",
       "      <td>-0.724962</td>\n",
       "      <td>3</td>\n",
       "    </tr>\n",
       "  </tbody>\n",
       "</table>\n",
       "</div>"
      ],
      "text/plain": [
       "                   A         B         C         D  rank\n",
       "2013-01-01 -0.160303 -0.526345 -0.897152 -1.079023     1\n",
       "2013-01-02  1.137589 -0.359006 -0.700380  1.303678     2\n",
       "2013-01-03 -0.877550 -0.151404  0.078737 -0.724962     3"
      ]
     },
     "execution_count": 6,
     "metadata": {},
     "output_type": "execute_result"
    }
   ],
   "source": [
    "random_df['2013-01-01':'2013-01-03'] # df slicing is inclusive"
   ]
  },
  {
   "cell_type": "markdown",
   "metadata": {},
   "source": [
    "### Selection by Label with `.loc`\n",
    "\n",
    "`.loc` and `.iloc` are the preferred methods for accessing specific data because of the ability to access both specific rows AND specific columns simultaneously, and are extremely flexible.\n",
    "\n",
    "Select first row based on index label:"
   ]
  },
  {
   "cell_type": "code",
   "execution_count": 7,
   "metadata": {},
   "outputs": [
    {
     "data": {
      "text/plain": [
       "A      -0.160303\n",
       "B      -0.526345\n",
       "C      -0.897152\n",
       "D      -1.079023\n",
       "rank    1.000000\n",
       "Name: 2013-01-01 00:00:00, dtype: float64"
      ]
     },
     "execution_count": 7,
     "metadata": {},
     "output_type": "execute_result"
    }
   ],
   "source": [
    "random_df.loc[\"2013-01-01\"]"
   ]
  },
  {
   "cell_type": "markdown",
   "metadata": {},
   "source": [
    "Select multiple columns by name:\n",
    "\n",
    "`:` represents that we want to take all the rows as well as the list, `['A', 'B']`, which represents the columns."
   ]
  },
  {
   "cell_type": "code",
   "execution_count": 9,
   "metadata": {},
   "outputs": [
    {
     "data": {
      "text/html": [
       "<div>\n",
       "<style scoped>\n",
       "    .dataframe tbody tr th:only-of-type {\n",
       "        vertical-align: middle;\n",
       "    }\n",
       "\n",
       "    .dataframe tbody tr th {\n",
       "        vertical-align: top;\n",
       "    }\n",
       "\n",
       "    .dataframe thead th {\n",
       "        text-align: right;\n",
       "    }\n",
       "</style>\n",
       "<table border=\"1\" class=\"dataframe\">\n",
       "  <thead>\n",
       "    <tr style=\"text-align: right;\">\n",
       "      <th></th>\n",
       "      <th>A</th>\n",
       "      <th>B</th>\n",
       "    </tr>\n",
       "  </thead>\n",
       "  <tbody>\n",
       "    <tr>\n",
       "      <th>2013-01-01</th>\n",
       "      <td>-0.160303</td>\n",
       "      <td>-0.526345</td>\n",
       "    </tr>\n",
       "    <tr>\n",
       "      <th>2013-01-02</th>\n",
       "      <td>1.137589</td>\n",
       "      <td>-0.359006</td>\n",
       "    </tr>\n",
       "    <tr>\n",
       "      <th>2013-01-03</th>\n",
       "      <td>-0.877550</td>\n",
       "      <td>-0.151404</td>\n",
       "    </tr>\n",
       "    <tr>\n",
       "      <th>2013-01-04</th>\n",
       "      <td>1.288791</td>\n",
       "      <td>-0.406711</td>\n",
       "    </tr>\n",
       "    <tr>\n",
       "      <th>2013-01-05</th>\n",
       "      <td>-0.968469</td>\n",
       "      <td>-0.214320</td>\n",
       "    </tr>\n",
       "    <tr>\n",
       "      <th>2013-01-06</th>\n",
       "      <td>0.604207</td>\n",
       "      <td>0.866014</td>\n",
       "    </tr>\n",
       "  </tbody>\n",
       "</table>\n",
       "</div>"
      ],
      "text/plain": [
       "                   A         B\n",
       "2013-01-01 -0.160303 -0.526345\n",
       "2013-01-02  1.137589 -0.359006\n",
       "2013-01-03 -0.877550 -0.151404\n",
       "2013-01-04  1.288791 -0.406711\n",
       "2013-01-05 -0.968469 -0.214320\n",
       "2013-01-06  0.604207  0.866014"
      ]
     },
     "execution_count": 9,
     "metadata": {},
     "output_type": "execute_result"
    }
   ],
   "source": [
    "random_df.loc[:, ['A', 'B']] # .loc[row label, column list]"
   ]
  },
  {
   "cell_type": "markdown",
   "metadata": {},
   "source": [
    "We can use this first `:` to also slice rows by label. \n",
    "\n",
    "The columns can also be a slice, instead of a list, which will give all columns between the 'start' and 'stop'."
   ]
  },
  {
   "cell_type": "code",
   "execution_count": 10,
   "metadata": {},
   "outputs": [
    {
     "data": {
      "text/html": [
       "<div>\n",
       "<style scoped>\n",
       "    .dataframe tbody tr th:only-of-type {\n",
       "        vertical-align: middle;\n",
       "    }\n",
       "\n",
       "    .dataframe tbody tr th {\n",
       "        vertical-align: top;\n",
       "    }\n",
       "\n",
       "    .dataframe thead th {\n",
       "        text-align: right;\n",
       "    }\n",
       "</style>\n",
       "<table border=\"1\" class=\"dataframe\">\n",
       "  <thead>\n",
       "    <tr style=\"text-align: right;\">\n",
       "      <th></th>\n",
       "      <th>A</th>\n",
       "      <th>B</th>\n",
       "      <th>C</th>\n",
       "      <th>D</th>\n",
       "    </tr>\n",
       "  </thead>\n",
       "  <tbody>\n",
       "    <tr>\n",
       "      <th>2013-01-01</th>\n",
       "      <td>-0.160303</td>\n",
       "      <td>-0.526345</td>\n",
       "      <td>-0.897152</td>\n",
       "      <td>-1.079023</td>\n",
       "    </tr>\n",
       "    <tr>\n",
       "      <th>2013-01-02</th>\n",
       "      <td>1.137589</td>\n",
       "      <td>-0.359006</td>\n",
       "      <td>-0.700380</td>\n",
       "      <td>1.303678</td>\n",
       "    </tr>\n",
       "    <tr>\n",
       "      <th>2013-01-03</th>\n",
       "      <td>-0.877550</td>\n",
       "      <td>-0.151404</td>\n",
       "      <td>0.078737</td>\n",
       "      <td>-0.724962</td>\n",
       "    </tr>\n",
       "  </tbody>\n",
       "</table>\n",
       "</div>"
      ],
      "text/plain": [
       "                   A         B         C         D\n",
       "2013-01-01 -0.160303 -0.526345 -0.897152 -1.079023\n",
       "2013-01-02  1.137589 -0.359006 -0.700380  1.303678\n",
       "2013-01-03 -0.877550 -0.151404  0.078737 -0.724962"
      ]
     },
     "execution_count": 10,
     "metadata": {},
     "output_type": "execute_result"
    }
   ],
   "source": [
    "random_df.loc['2013-01-01':'2013-01-03', 'A':'D'] # row slice, then column slice"
   ]
  },
  {
   "cell_type": "markdown",
   "metadata": {},
   "source": [
    "Remember that the object types here depend on the shape of the output. For the above, we had dataframes.\n",
    "\n",
    "But indexing a single row (or column) is a Series."
   ]
  },
  {
   "cell_type": "code",
   "execution_count": 11,
   "metadata": {},
   "outputs": [
    {
     "data": {
      "text/plain": [
       "A    1.137589\n",
       "B   -0.359006\n",
       "Name: 2013-01-02 00:00:00, dtype: float64"
      ]
     },
     "execution_count": 11,
     "metadata": {},
     "output_type": "execute_result"
    }
   ],
   "source": [
    "random_df.loc['20130102', ['A', 'B']]"
   ]
  },
  {
   "cell_type": "markdown",
   "metadata": {},
   "source": [
    "And accessing a single value is just that value's type."
   ]
  },
  {
   "cell_type": "code",
   "execution_count": 12,
   "metadata": {},
   "outputs": [
    {
     "data": {
      "text/plain": [
       "1.1375886686429635"
      ]
     },
     "execution_count": 12,
     "metadata": {},
     "output_type": "execute_result"
    }
   ],
   "source": [
    "random_df.loc['20130102', 'A']"
   ]
  },
  {
   "cell_type": "markdown",
   "metadata": {},
   "source": [
    "`.loc` is extremely flexible, and can be manipulated to access any desired subset of the data if well constructed.\n",
    "\n",
    "### Selection by Numeric Index with `.iloc`\n",
    "\n",
    "`.iloc` is similar to `.loc`, but selects by the numeric index.\n",
    "\n",
    "Indexing with `.iloc` is extremely similar to indexing NumPy arrays (or native Python arrays).\n",
    "\n",
    "Ex: index 4th row (index value 3, because indexes start at 0)"
   ]
  },
  {
   "cell_type": "code",
   "execution_count": 13,
   "metadata": {},
   "outputs": [
    {
     "data": {
      "text/plain": [
       "A       1.288791\n",
       "B      -0.406711\n",
       "C       1.026763\n",
       "D      -0.766468\n",
       "rank    4.000000\n",
       "Name: 2013-01-04 00:00:00, dtype: float64"
      ]
     },
     "execution_count": 13,
     "metadata": {},
     "output_type": "execute_result"
    }
   ],
   "source": [
    "random_df.iloc[3]"
   ]
  },
  {
   "cell_type": "markdown",
   "metadata": {},
   "source": [
    "Slice specific rows and columns."
   ]
  },
  {
   "cell_type": "code",
   "execution_count": 14,
   "metadata": {},
   "outputs": [
    {
     "data": {
      "text/html": [
       "<div>\n",
       "<style scoped>\n",
       "    .dataframe tbody tr th:only-of-type {\n",
       "        vertical-align: middle;\n",
       "    }\n",
       "\n",
       "    .dataframe tbody tr th {\n",
       "        vertical-align: top;\n",
       "    }\n",
       "\n",
       "    .dataframe thead th {\n",
       "        text-align: right;\n",
       "    }\n",
       "</style>\n",
       "<table border=\"1\" class=\"dataframe\">\n",
       "  <thead>\n",
       "    <tr style=\"text-align: right;\">\n",
       "      <th></th>\n",
       "      <th>A</th>\n",
       "      <th>B</th>\n",
       "    </tr>\n",
       "  </thead>\n",
       "  <tbody>\n",
       "    <tr>\n",
       "      <th>2013-01-04</th>\n",
       "      <td>1.288791</td>\n",
       "      <td>-0.406711</td>\n",
       "    </tr>\n",
       "    <tr>\n",
       "      <th>2013-01-05</th>\n",
       "      <td>-0.968469</td>\n",
       "      <td>-0.214320</td>\n",
       "    </tr>\n",
       "  </tbody>\n",
       "</table>\n",
       "</div>"
      ],
      "text/plain": [
       "                   A         B\n",
       "2013-01-04  1.288791 -0.406711\n",
       "2013-01-05 -0.968469 -0.214320"
      ]
     },
     "execution_count": 14,
     "metadata": {},
     "output_type": "execute_result"
    }
   ],
   "source": [
    "random_df.iloc[3:5, 0:2]"
   ]
  },
  {
   "cell_type": "markdown",
   "metadata": {},
   "source": [
    "Slice specific columns with all rows."
   ]
  },
  {
   "cell_type": "code",
   "execution_count": 15,
   "metadata": {},
   "outputs": [
    {
     "data": {
      "text/html": [
       "<div>\n",
       "<style scoped>\n",
       "    .dataframe tbody tr th:only-of-type {\n",
       "        vertical-align: middle;\n",
       "    }\n",
       "\n",
       "    .dataframe tbody tr th {\n",
       "        vertical-align: top;\n",
       "    }\n",
       "\n",
       "    .dataframe thead th {\n",
       "        text-align: right;\n",
       "    }\n",
       "</style>\n",
       "<table border=\"1\" class=\"dataframe\">\n",
       "  <thead>\n",
       "    <tr style=\"text-align: right;\">\n",
       "      <th></th>\n",
       "      <th>A</th>\n",
       "      <th>B</th>\n",
       "    </tr>\n",
       "  </thead>\n",
       "  <tbody>\n",
       "    <tr>\n",
       "      <th>2013-01-01</th>\n",
       "      <td>-0.160303</td>\n",
       "      <td>-0.526345</td>\n",
       "    </tr>\n",
       "    <tr>\n",
       "      <th>2013-01-02</th>\n",
       "      <td>1.137589</td>\n",
       "      <td>-0.359006</td>\n",
       "    </tr>\n",
       "    <tr>\n",
       "      <th>2013-01-03</th>\n",
       "      <td>-0.877550</td>\n",
       "      <td>-0.151404</td>\n",
       "    </tr>\n",
       "    <tr>\n",
       "      <th>2013-01-04</th>\n",
       "      <td>1.288791</td>\n",
       "      <td>-0.406711</td>\n",
       "    </tr>\n",
       "    <tr>\n",
       "      <th>2013-01-05</th>\n",
       "      <td>-0.968469</td>\n",
       "      <td>-0.214320</td>\n",
       "    </tr>\n",
       "    <tr>\n",
       "      <th>2013-01-06</th>\n",
       "      <td>0.604207</td>\n",
       "      <td>0.866014</td>\n",
       "    </tr>\n",
       "  </tbody>\n",
       "</table>\n",
       "</div>"
      ],
      "text/plain": [
       "                   A         B\n",
       "2013-01-01 -0.160303 -0.526345\n",
       "2013-01-02  1.137589 -0.359006\n",
       "2013-01-03 -0.877550 -0.151404\n",
       "2013-01-04  1.288791 -0.406711\n",
       "2013-01-05 -0.968469 -0.214320\n",
       "2013-01-06  0.604207  0.866014"
      ]
     },
     "execution_count": 15,
     "metadata": {},
     "output_type": "execute_result"
    }
   ],
   "source": [
    "random_df.iloc[:, 0:2]"
   ]
  },
  {
   "cell_type": "markdown",
   "metadata": {},
   "source": [
    "### Selection by DataType:\n",
    "\n",
    "The `select_dtypes()` method implements subsetting of columns based on their datatype.\n",
    "\n",
    "We pass a list of acceptable datatypes, and the method will return only the columns with that datatype."
   ]
  },
  {
   "cell_type": "code",
   "execution_count": 17,
   "metadata": {},
   "outputs": [],
   "source": [
    "dtypes_df = pd.DataFrame({'string': list('abc'),\n",
    "                       'int64': list(range(1, 4)),\n",
    "                       'uint8': np.arange(3, 6).astype('u1'),\n",
    "                       'float64': np.arange(4.0, 7.0),\n",
    "                       'bool1': [True, False, True],\n",
    "                       'bool2': [False, True, False],\n",
    "                       'dates': pd.date_range('now', periods=3),\n",
    "                       'category': pd.Series(list(\"ABC\")).astype('category')})\n",
    "\n"
   ]
  },
  {
   "cell_type": "code",
   "execution_count": 18,
   "metadata": {},
   "outputs": [
    {
     "data": {
      "text/html": [
       "<div>\n",
       "<style scoped>\n",
       "    .dataframe tbody tr th:only-of-type {\n",
       "        vertical-align: middle;\n",
       "    }\n",
       "\n",
       "    .dataframe tbody tr th {\n",
       "        vertical-align: top;\n",
       "    }\n",
       "\n",
       "    .dataframe thead th {\n",
       "        text-align: right;\n",
       "    }\n",
       "</style>\n",
       "<table border=\"1\" class=\"dataframe\">\n",
       "  <thead>\n",
       "    <tr style=\"text-align: right;\">\n",
       "      <th></th>\n",
       "      <th>bool1</th>\n",
       "      <th>bool2</th>\n",
       "    </tr>\n",
       "  </thead>\n",
       "  <tbody>\n",
       "    <tr>\n",
       "      <th>0</th>\n",
       "      <td>True</td>\n",
       "      <td>False</td>\n",
       "    </tr>\n",
       "    <tr>\n",
       "      <th>1</th>\n",
       "      <td>False</td>\n",
       "      <td>True</td>\n",
       "    </tr>\n",
       "    <tr>\n",
       "      <th>2</th>\n",
       "      <td>True</td>\n",
       "      <td>False</td>\n",
       "    </tr>\n",
       "  </tbody>\n",
       "</table>\n",
       "</div>"
      ],
      "text/plain": [
       "   bool1  bool2\n",
       "0   True  False\n",
       "1  False   True\n",
       "2   True  False"
      ]
     },
     "execution_count": 18,
     "metadata": {},
     "output_type": "execute_result"
    }
   ],
   "source": [
    "dtypes_df.select_dtypes(include=[bool]) # just the `bool` columns"
   ]
  },
  {
   "cell_type": "markdown",
   "metadata": {},
   "source": [
    "### Boolean Indexing \n",
    "\n",
    "We can also use Boolean indexes to filter data based on a condition.\n",
    "\n",
    "Below, we use `>= 0` to give us a Boolean vector corresponding to the values of `A` greater than or equal to 0."
   ]
  },
  {
   "cell_type": "code",
   "execution_count": 19,
   "metadata": {},
   "outputs": [
    {
     "data": {
      "text/plain": [
       "2013-01-01    False\n",
       "2013-01-02     True\n",
       "2013-01-03    False\n",
       "2013-01-04     True\n",
       "2013-01-05    False\n",
       "2013-01-06     True\n",
       "Freq: D, Name: A, dtype: bool"
      ]
     },
     "execution_count": 19,
     "metadata": {},
     "output_type": "execute_result"
    }
   ],
   "source": [
    "random_df['A'] >= 0"
   ]
  },
  {
   "cell_type": "markdown",
   "metadata": {},
   "source": [
    "If we filter `random_df` using this boolean vector (sometimes called a 'mask'), we get only the `True` values (>= 0)."
   ]
  },
  {
   "cell_type": "code",
   "execution_count": 20,
   "metadata": {},
   "outputs": [
    {
     "data": {
      "text/html": [
       "<div>\n",
       "<style scoped>\n",
       "    .dataframe tbody tr th:only-of-type {\n",
       "        vertical-align: middle;\n",
       "    }\n",
       "\n",
       "    .dataframe tbody tr th {\n",
       "        vertical-align: top;\n",
       "    }\n",
       "\n",
       "    .dataframe thead th {\n",
       "        text-align: right;\n",
       "    }\n",
       "</style>\n",
       "<table border=\"1\" class=\"dataframe\">\n",
       "  <thead>\n",
       "    <tr style=\"text-align: right;\">\n",
       "      <th></th>\n",
       "      <th>A</th>\n",
       "      <th>B</th>\n",
       "      <th>C</th>\n",
       "      <th>D</th>\n",
       "      <th>rank</th>\n",
       "    </tr>\n",
       "  </thead>\n",
       "  <tbody>\n",
       "    <tr>\n",
       "      <th>2013-01-02</th>\n",
       "      <td>1.137589</td>\n",
       "      <td>-0.359006</td>\n",
       "      <td>-0.700380</td>\n",
       "      <td>1.303678</td>\n",
       "      <td>2</td>\n",
       "    </tr>\n",
       "    <tr>\n",
       "      <th>2013-01-04</th>\n",
       "      <td>1.288791</td>\n",
       "      <td>-0.406711</td>\n",
       "      <td>1.026763</td>\n",
       "      <td>-0.766468</td>\n",
       "      <td>4</td>\n",
       "    </tr>\n",
       "    <tr>\n",
       "      <th>2013-01-06</th>\n",
       "      <td>0.604207</td>\n",
       "      <td>0.866014</td>\n",
       "      <td>-0.986297</td>\n",
       "      <td>0.030036</td>\n",
       "      <td>6</td>\n",
       "    </tr>\n",
       "  </tbody>\n",
       "</table>\n",
       "</div>"
      ],
      "text/plain": [
       "                   A         B         C         D  rank\n",
       "2013-01-02  1.137589 -0.359006 -0.700380  1.303678     2\n",
       "2013-01-04  1.288791 -0.406711  1.026763 -0.766468     4\n",
       "2013-01-06  0.604207  0.866014 -0.986297  0.030036     6"
      ]
     },
     "execution_count": 20,
     "metadata": {},
     "output_type": "execute_result"
    }
   ],
   "source": [
    "random_df[random_df['A'] >= 0]"
   ]
  },
  {
   "cell_type": "markdown",
   "metadata": {},
   "source": [
    "We can also use `isin()` to check for specific values."
   ]
  },
  {
   "cell_type": "code",
   "execution_count": 21,
   "metadata": {},
   "outputs": [
    {
     "data": {
      "text/html": [
       "<div>\n",
       "<style scoped>\n",
       "    .dataframe tbody tr th:only-of-type {\n",
       "        vertical-align: middle;\n",
       "    }\n",
       "\n",
       "    .dataframe tbody tr th {\n",
       "        vertical-align: top;\n",
       "    }\n",
       "\n",
       "    .dataframe thead th {\n",
       "        text-align: right;\n",
       "    }\n",
       "</style>\n",
       "<table border=\"1\" class=\"dataframe\">\n",
       "  <thead>\n",
       "    <tr style=\"text-align: right;\">\n",
       "      <th></th>\n",
       "      <th>A</th>\n",
       "      <th>B</th>\n",
       "      <th>C</th>\n",
       "      <th>D</th>\n",
       "      <th>rank</th>\n",
       "      <th>E</th>\n",
       "    </tr>\n",
       "  </thead>\n",
       "  <tbody>\n",
       "    <tr>\n",
       "      <th>2013-01-01</th>\n",
       "      <td>-0.160303</td>\n",
       "      <td>-0.526345</td>\n",
       "      <td>-0.897152</td>\n",
       "      <td>-1.079023</td>\n",
       "      <td>1</td>\n",
       "      <td>one</td>\n",
       "    </tr>\n",
       "    <tr>\n",
       "      <th>2013-01-02</th>\n",
       "      <td>1.137589</td>\n",
       "      <td>-0.359006</td>\n",
       "      <td>-0.700380</td>\n",
       "      <td>1.303678</td>\n",
       "      <td>2</td>\n",
       "      <td>two</td>\n",
       "    </tr>\n",
       "    <tr>\n",
       "      <th>2013-01-03</th>\n",
       "      <td>-0.877550</td>\n",
       "      <td>-0.151404</td>\n",
       "      <td>0.078737</td>\n",
       "      <td>-0.724962</td>\n",
       "      <td>3</td>\n",
       "      <td>three</td>\n",
       "    </tr>\n",
       "    <tr>\n",
       "      <th>2013-01-04</th>\n",
       "      <td>1.288791</td>\n",
       "      <td>-0.406711</td>\n",
       "      <td>1.026763</td>\n",
       "      <td>-0.766468</td>\n",
       "      <td>4</td>\n",
       "      <td>two</td>\n",
       "    </tr>\n",
       "    <tr>\n",
       "      <th>2013-01-05</th>\n",
       "      <td>-0.968469</td>\n",
       "      <td>-0.214320</td>\n",
       "      <td>-2.190821</td>\n",
       "      <td>1.490912</td>\n",
       "      <td>5</td>\n",
       "      <td>five</td>\n",
       "    </tr>\n",
       "    <tr>\n",
       "      <th>2013-01-06</th>\n",
       "      <td>0.604207</td>\n",
       "      <td>0.866014</td>\n",
       "      <td>-0.986297</td>\n",
       "      <td>0.030036</td>\n",
       "      <td>6</td>\n",
       "      <td>ten</td>\n",
       "    </tr>\n",
       "  </tbody>\n",
       "</table>\n",
       "</div>"
      ],
      "text/plain": [
       "                   A         B         C         D  rank      E\n",
       "2013-01-01 -0.160303 -0.526345 -0.897152 -1.079023     1    one\n",
       "2013-01-02  1.137589 -0.359006 -0.700380  1.303678     2    two\n",
       "2013-01-03 -0.877550 -0.151404  0.078737 -0.724962     3  three\n",
       "2013-01-04  1.288791 -0.406711  1.026763 -0.766468     4    two\n",
       "2013-01-05 -0.968469 -0.214320 -2.190821  1.490912     5   five\n",
       "2013-01-06  0.604207  0.866014 -0.986297  0.030036     6    ten"
      ]
     },
     "execution_count": 21,
     "metadata": {},
     "output_type": "execute_result"
    }
   ],
   "source": [
    "random_df['E'] = ['one', 'two', 'three', 'two', 'five', 'ten'] # make a new column 'E' with these values\n",
    "random_df"
   ]
  },
  {
   "cell_type": "code",
   "execution_count": 22,
   "metadata": {},
   "outputs": [
    {
     "data": {
      "text/plain": [
       "2013-01-01    False\n",
       "2013-01-02     True\n",
       "2013-01-03    False\n",
       "2013-01-04     True\n",
       "2013-01-05    False\n",
       "2013-01-06    False\n",
       "Freq: D, Name: E, dtype: bool"
      ]
     },
     "execution_count": 22,
     "metadata": {},
     "output_type": "execute_result"
    }
   ],
   "source": [
    "random_df['E'].isin(['two', 'four']) # check if the values are 'two' or 'four'"
   ]
  },
  {
   "cell_type": "code",
   "execution_count": 23,
   "metadata": {},
   "outputs": [
    {
     "data": {
      "text/html": [
       "<div>\n",
       "<style scoped>\n",
       "    .dataframe tbody tr th:only-of-type {\n",
       "        vertical-align: middle;\n",
       "    }\n",
       "\n",
       "    .dataframe tbody tr th {\n",
       "        vertical-align: top;\n",
       "    }\n",
       "\n",
       "    .dataframe thead th {\n",
       "        text-align: right;\n",
       "    }\n",
       "</style>\n",
       "<table border=\"1\" class=\"dataframe\">\n",
       "  <thead>\n",
       "    <tr style=\"text-align: right;\">\n",
       "      <th></th>\n",
       "      <th>A</th>\n",
       "      <th>B</th>\n",
       "      <th>C</th>\n",
       "      <th>D</th>\n",
       "      <th>rank</th>\n",
       "      <th>E</th>\n",
       "    </tr>\n",
       "  </thead>\n",
       "  <tbody>\n",
       "    <tr>\n",
       "      <th>2013-01-02</th>\n",
       "      <td>1.137589</td>\n",
       "      <td>-0.359006</td>\n",
       "      <td>-0.700380</td>\n",
       "      <td>1.303678</td>\n",
       "      <td>2</td>\n",
       "      <td>two</td>\n",
       "    </tr>\n",
       "    <tr>\n",
       "      <th>2013-01-04</th>\n",
       "      <td>1.288791</td>\n",
       "      <td>-0.406711</td>\n",
       "      <td>1.026763</td>\n",
       "      <td>-0.766468</td>\n",
       "      <td>4</td>\n",
       "      <td>two</td>\n",
       "    </tr>\n",
       "  </tbody>\n",
       "</table>\n",
       "</div>"
      ],
      "text/plain": [
       "                   A         B         C         D  rank    E\n",
       "2013-01-02  1.137589 -0.359006 -0.700380  1.303678     2  two\n",
       "2013-01-04  1.288791 -0.406711  1.026763 -0.766468     4  two"
      ]
     },
     "execution_count": 23,
     "metadata": {},
     "output_type": "execute_result"
    }
   ],
   "source": [
    "random_df[random_df['E'].isin(['two', 'four'])] # filter for rows with 'two' or 'four' in 'E'"
   ]
  },
  {
   "cell_type": "markdown",
   "metadata": {},
   "source": [
    "### Setting Values\n",
    "\n",
    "As shown above when we made a new column 'E', we can also set values in the DataFrame.\n",
    "\n",
    "If we index a location of the dataframe that already exists, we will replace the current values with new ones.\n",
    "\n",
    "If we do something like specify a column that doesn't exist yet, we'll create that column!\n",
    "\n",
    "We can index the dataframe using any of the previously seen methods, i.e using `.loc` or `.iloc`\n",
    "\n",
    "You can also set multiple values at once (they 'broadcast')."
   ]
  },
  {
   "cell_type": "code",
   "execution_count": 24,
   "metadata": {},
   "outputs": [],
   "source": [
    "random_df.iloc[0, 1] = 2 # set value at index [0,1] to 2\n",
    "random_df.loc['2013-01-02':'2013-01-04', 'B'] = -20 # replace all values of B from rows '2013-01-02' to '2013-01-04' with -20"
   ]
  },
  {
   "cell_type": "markdown",
   "metadata": {},
   "source": [
    "We can also use arrays (or lists) to replace sections of the dataframe.\n",
    "\n",
    "> Note 1: The dimensions need to line up to do this! You can't put a list or array of length 5 in a slice of length 6.\n",
    "\n",
    "> Note 2: If using an object like a list that can store multiple dtypes - make sure the datatypes are compatible with the column."
   ]
  },
  {
   "cell_type": "code",
   "execution_count": 25,
   "metadata": {},
   "outputs": [],
   "source": [
    "random_df.loc[:, 'C'] = [5, 1, 3, 5, 6, 8] # replace all rows in column C with this list."
   ]
  },
  {
   "cell_type": "markdown",
   "metadata": {},
   "source": [
    "In this example, we're working entirely with column `C`, which is numeric, so all the list values should be numeric.\n",
    "\n",
    "Again, we can also make new columns by using square brackets."
   ]
  },
  {
   "cell_type": "code",
   "execution_count": 26,
   "metadata": {},
   "outputs": [],
   "source": [
    "random_df['F'] = np.random.randn(6, 1) # new column of random values\n",
    "random_df['G'] = 10 # new column of all 10s"
   ]
  },
  {
   "cell_type": "markdown",
   "metadata": {},
   "source": [
    "For reference, we saved a copy of the original `random_df` at the start of this walkthrough.\n",
    "\n",
    "You can check through below to see all the changes we've made - see if you can account for each difference."
   ]
  },
  {
   "cell_type": "code",
   "execution_count": 27,
   "metadata": {},
   "outputs": [
    {
     "data": {
      "text/html": [
       "<div>\n",
       "<style scoped>\n",
       "    .dataframe tbody tr th:only-of-type {\n",
       "        vertical-align: middle;\n",
       "    }\n",
       "\n",
       "    .dataframe tbody tr th {\n",
       "        vertical-align: top;\n",
       "    }\n",
       "\n",
       "    .dataframe thead th {\n",
       "        text-align: right;\n",
       "    }\n",
       "</style>\n",
       "<table border=\"1\" class=\"dataframe\">\n",
       "  <thead>\n",
       "    <tr style=\"text-align: right;\">\n",
       "      <th></th>\n",
       "      <th>A</th>\n",
       "      <th>B</th>\n",
       "      <th>C</th>\n",
       "      <th>D</th>\n",
       "      <th>rank</th>\n",
       "      <th>E</th>\n",
       "      <th>F</th>\n",
       "      <th>G</th>\n",
       "    </tr>\n",
       "  </thead>\n",
       "  <tbody>\n",
       "    <tr>\n",
       "      <th>2013-01-01</th>\n",
       "      <td>-0.160303</td>\n",
       "      <td>2.000000</td>\n",
       "      <td>5.0</td>\n",
       "      <td>-1.079023</td>\n",
       "      <td>1</td>\n",
       "      <td>one</td>\n",
       "      <td>0.782656</td>\n",
       "      <td>10</td>\n",
       "    </tr>\n",
       "    <tr>\n",
       "      <th>2013-01-02</th>\n",
       "      <td>1.137589</td>\n",
       "      <td>-20.000000</td>\n",
       "      <td>1.0</td>\n",
       "      <td>1.303678</td>\n",
       "      <td>2</td>\n",
       "      <td>two</td>\n",
       "      <td>0.727822</td>\n",
       "      <td>10</td>\n",
       "    </tr>\n",
       "    <tr>\n",
       "      <th>2013-01-03</th>\n",
       "      <td>-0.877550</td>\n",
       "      <td>-20.000000</td>\n",
       "      <td>3.0</td>\n",
       "      <td>-0.724962</td>\n",
       "      <td>3</td>\n",
       "      <td>three</td>\n",
       "      <td>-0.368836</td>\n",
       "      <td>10</td>\n",
       "    </tr>\n",
       "    <tr>\n",
       "      <th>2013-01-04</th>\n",
       "      <td>1.288791</td>\n",
       "      <td>-20.000000</td>\n",
       "      <td>5.0</td>\n",
       "      <td>-0.766468</td>\n",
       "      <td>4</td>\n",
       "      <td>two</td>\n",
       "      <td>1.421549</td>\n",
       "      <td>10</td>\n",
       "    </tr>\n",
       "    <tr>\n",
       "      <th>2013-01-05</th>\n",
       "      <td>-0.968469</td>\n",
       "      <td>-0.214320</td>\n",
       "      <td>6.0</td>\n",
       "      <td>1.490912</td>\n",
       "      <td>5</td>\n",
       "      <td>five</td>\n",
       "      <td>-0.275651</td>\n",
       "      <td>10</td>\n",
       "    </tr>\n",
       "    <tr>\n",
       "      <th>2013-01-06</th>\n",
       "      <td>0.604207</td>\n",
       "      <td>0.866014</td>\n",
       "      <td>8.0</td>\n",
       "      <td>0.030036</td>\n",
       "      <td>6</td>\n",
       "      <td>ten</td>\n",
       "      <td>0.071520</td>\n",
       "      <td>10</td>\n",
       "    </tr>\n",
       "  </tbody>\n",
       "</table>\n",
       "</div>"
      ],
      "text/plain": [
       "                   A          B    C         D  rank      E         F   G\n",
       "2013-01-01 -0.160303   2.000000  5.0 -1.079023     1    one  0.782656  10\n",
       "2013-01-02  1.137589 -20.000000  1.0  1.303678     2    two  0.727822  10\n",
       "2013-01-03 -0.877550 -20.000000  3.0 -0.724962     3  three -0.368836  10\n",
       "2013-01-04  1.288791 -20.000000  5.0 -0.766468     4    two  1.421549  10\n",
       "2013-01-05 -0.968469  -0.214320  6.0  1.490912     5   five -0.275651  10\n",
       "2013-01-06  0.604207   0.866014  8.0  0.030036     6    ten  0.071520  10"
      ]
     },
     "execution_count": 27,
     "metadata": {},
     "output_type": "execute_result"
    }
   ],
   "source": [
    "random_df"
   ]
  },
  {
   "cell_type": "code",
   "execution_count": 28,
   "metadata": {},
   "outputs": [
    {
     "data": {
      "text/html": [
       "<div>\n",
       "<style scoped>\n",
       "    .dataframe tbody tr th:only-of-type {\n",
       "        vertical-align: middle;\n",
       "    }\n",
       "\n",
       "    .dataframe tbody tr th {\n",
       "        vertical-align: top;\n",
       "    }\n",
       "\n",
       "    .dataframe thead th {\n",
       "        text-align: right;\n",
       "    }\n",
       "</style>\n",
       "<table border=\"1\" class=\"dataframe\">\n",
       "  <thead>\n",
       "    <tr style=\"text-align: right;\">\n",
       "      <th></th>\n",
       "      <th>A</th>\n",
       "      <th>B</th>\n",
       "      <th>C</th>\n",
       "      <th>D</th>\n",
       "    </tr>\n",
       "  </thead>\n",
       "  <tbody>\n",
       "    <tr>\n",
       "      <th>2013-01-01</th>\n",
       "      <td>-0.160303</td>\n",
       "      <td>-0.526345</td>\n",
       "      <td>-0.897152</td>\n",
       "      <td>-1.079023</td>\n",
       "    </tr>\n",
       "    <tr>\n",
       "      <th>2013-01-02</th>\n",
       "      <td>1.137589</td>\n",
       "      <td>-0.359006</td>\n",
       "      <td>-0.700380</td>\n",
       "      <td>1.303678</td>\n",
       "    </tr>\n",
       "    <tr>\n",
       "      <th>2013-01-03</th>\n",
       "      <td>-0.877550</td>\n",
       "      <td>-0.151404</td>\n",
       "      <td>0.078737</td>\n",
       "      <td>-0.724962</td>\n",
       "    </tr>\n",
       "    <tr>\n",
       "      <th>2013-01-04</th>\n",
       "      <td>1.288791</td>\n",
       "      <td>-0.406711</td>\n",
       "      <td>1.026763</td>\n",
       "      <td>-0.766468</td>\n",
       "    </tr>\n",
       "    <tr>\n",
       "      <th>2013-01-05</th>\n",
       "      <td>-0.968469</td>\n",
       "      <td>-0.214320</td>\n",
       "      <td>-2.190821</td>\n",
       "      <td>1.490912</td>\n",
       "    </tr>\n",
       "    <tr>\n",
       "      <th>2013-01-06</th>\n",
       "      <td>0.604207</td>\n",
       "      <td>0.866014</td>\n",
       "      <td>-0.986297</td>\n",
       "      <td>0.030036</td>\n",
       "    </tr>\n",
       "  </tbody>\n",
       "</table>\n",
       "</div>"
      ],
      "text/plain": [
       "                   A         B         C         D\n",
       "2013-01-01 -0.160303 -0.526345 -0.897152 -1.079023\n",
       "2013-01-02  1.137589 -0.359006 -0.700380  1.303678\n",
       "2013-01-03 -0.877550 -0.151404  0.078737 -0.724962\n",
       "2013-01-04  1.288791 -0.406711  1.026763 -0.766468\n",
       "2013-01-05 -0.968469 -0.214320 -2.190821  1.490912\n",
       "2013-01-06  0.604207  0.866014 -0.986297  0.030036"
      ]
     },
     "execution_count": 28,
     "metadata": {},
     "output_type": "execute_result"
    }
   ],
   "source": [
    "random_df_original"
   ]
  },
  {
   "cell_type": "markdown",
   "metadata": {},
   "source": []
  },
  {
   "cell_type": "code",
   "execution_count": null,
   "metadata": {},
   "outputs": [],
   "source": []
  },
  {
   "cell_type": "code",
   "execution_count": null,
   "metadata": {},
   "outputs": [],
   "source": []
  },
  {
   "cell_type": "code",
   "execution_count": null,
   "metadata": {},
   "outputs": [],
   "source": []
  },
  {
   "cell_type": "markdown",
   "metadata": {},
   "source": []
  }
 ],
 "metadata": {
  "kernelspec": {
   "display_name": "Python 3 (ipykernel)",
   "language": "python",
   "name": "python3"
  },
  "language_info": {
   "codemirror_mode": {
    "name": "ipython",
    "version": 3
   },
   "file_extension": ".py",
   "mimetype": "text/x-python",
   "name": "python",
   "nbconvert_exporter": "python",
   "pygments_lexer": "ipython3",
   "version": "3.12.7"
  }
 },
 "nbformat": 4,
 "nbformat_minor": 4
}
