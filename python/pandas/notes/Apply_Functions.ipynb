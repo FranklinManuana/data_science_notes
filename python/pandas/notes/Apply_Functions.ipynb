{
 "cells": [
  {
   "cell_type": "code",
   "execution_count": 4,
   "id": "5ea70634-4a8f-4a0c-b165-ef9838c08ffd",
   "metadata": {},
   "outputs": [],
   "source": [
    "# import necessary modules\n",
    "import numpy as np\n",
    "import pandas as pd"
   ]
  },
  {
   "cell_type": "markdown",
   "id": "3b5b3a0b-fefe-4e07-a241-3aba8a48945c",
   "metadata": {},
   "source": [
    "* tablewise function application: pipe()\n",
    "* row or column-wise function application: apply()\n"
   ]
  },
  {
   "cell_type": "markdown",
   "id": "c9c78fd9-21cf-46a3-99a1-74e1eeac2b19",
   "metadata": {},
   "source": [
    "## Table Function Applicaiton\n",
    "DataFrames and Series can be passed into function without any problems"
   ]
  },
  {
   "cell_type": "code",
   "execution_count": 1,
   "id": "4f8bdc21-93d1-4d2a-a872-1e2b503f6133",
   "metadata": {},
   "outputs": [],
   "source": [
    "def extract_city_name(df):\n",
    "    \"\"\"\n",
    "    Chicaco, IL -> Chicago for city_name column\n",
    "    \"\"\"\n",
    "    df['city_name'] = df['city_and_code'].str.split(\",\").str.get(0)\n",
    "    return df"
   ]
  },
  {
   "cell_type": "code",
   "execution_count": 2,
   "id": "85eea064-e3cc-4cbb-a88e-3ebd3b5e355a",
   "metadata": {},
   "outputs": [],
   "source": [
    "# function to add country name\n",
    "\n",
    "def add_country_name(df, country_name=None):\n",
    "    \"\"\"\n",
    "    Chicago -> Chicago-US for city_name column\n",
    "    \"\"\"\n",
    "    col = 'city_name'\n",
    "    df['city_and_country'] = df[col] + country_name\n",
    "    return df"
   ]
  },
  {
   "cell_type": "code",
   "execution_count": 5,
   "id": "60be9aaa-c734-427e-9bbf-dc80356dda66",
   "metadata": {},
   "outputs": [],
   "source": [
    "# create chicago test DataFrame\n",
    "\n",
    "df_p = pd.DataFrame({'city_and_code':['Chicago, IL']})"
   ]
  },
  {
   "cell_type": "code",
   "execution_count": 6,
   "id": "7b4ab922-d5af-41e9-a18c-60fd2b8d9f04",
   "metadata": {},
   "outputs": [
    {
     "data": {
      "text/html": [
       "<div>\n",
       "<style scoped>\n",
       "    .dataframe tbody tr th:only-of-type {\n",
       "        vertical-align: middle;\n",
       "    }\n",
       "\n",
       "    .dataframe tbody tr th {\n",
       "        vertical-align: top;\n",
       "    }\n",
       "\n",
       "    .dataframe thead th {\n",
       "        text-align: right;\n",
       "    }\n",
       "</style>\n",
       "<table border=\"1\" class=\"dataframe\">\n",
       "  <thead>\n",
       "    <tr style=\"text-align: right;\">\n",
       "      <th></th>\n",
       "      <th>city_and_code</th>\n",
       "      <th>city_name</th>\n",
       "      <th>city_and_country</th>\n",
       "    </tr>\n",
       "  </thead>\n",
       "  <tbody>\n",
       "    <tr>\n",
       "      <th>0</th>\n",
       "      <td>Chicago, IL</td>\n",
       "      <td>Chicago</td>\n",
       "      <td>ChicagoUS</td>\n",
       "    </tr>\n",
       "  </tbody>\n",
       "</table>\n",
       "</div>"
      ],
      "text/plain": [
       "  city_and_code city_name city_and_country\n",
       "0   Chicago, IL   Chicago        ChicagoUS"
      ]
     },
     "execution_count": 6,
     "metadata": {},
     "output_type": "execute_result"
    }
   ],
   "source": [
    "# call add_country_name() and exctract_city_name functions we created\n",
    "\n",
    "add_country_name(extract_city_name(df_p), country_name = 'US')"
   ]
  },
  {
   "cell_type": "code",
   "execution_count": 7,
   "id": "d41121a3-bd15-4363-814f-d6646f7075af",
   "metadata": {},
   "outputs": [
    {
     "data": {
      "text/html": [
       "<div>\n",
       "<style scoped>\n",
       "    .dataframe tbody tr th:only-of-type {\n",
       "        vertical-align: middle;\n",
       "    }\n",
       "\n",
       "    .dataframe tbody tr th {\n",
       "        vertical-align: top;\n",
       "    }\n",
       "\n",
       "    .dataframe thead th {\n",
       "        text-align: right;\n",
       "    }\n",
       "</style>\n",
       "<table border=\"1\" class=\"dataframe\">\n",
       "  <thead>\n",
       "    <tr style=\"text-align: right;\">\n",
       "      <th></th>\n",
       "      <th>city_and_code</th>\n",
       "      <th>city_name</th>\n",
       "      <th>city_and_country</th>\n",
       "    </tr>\n",
       "  </thead>\n",
       "  <tbody>\n",
       "    <tr>\n",
       "      <th>0</th>\n",
       "      <td>Chicago, IL</td>\n",
       "      <td>Chicago</td>\n",
       "      <td>ChicagoUS</td>\n",
       "    </tr>\n",
       "  </tbody>\n",
       "</table>\n",
       "</div>"
      ],
      "text/plain": [
       "  city_and_code city_name city_and_country\n",
       "0   Chicago, IL   Chicago        ChicagoUS"
      ]
     },
     "execution_count": 7,
     "metadata": {},
     "output_type": "execute_result"
    }
   ],
   "source": [
    "# using the pipe() streamlines the use of our own functions along side pandas functions\n",
    "(df_p.pipe(extract_city_name).pipe(add_country_name, country_name=\"US\"))"
   ]
  },
  {
   "cell_type": "markdown",
   "id": "49886bd5-9d1e-4710-a036-e5986ff01b9e",
   "metadata": {},
   "source": [
    "## Row or Column-wise Function Application"
   ]
  },
  {
   "cell_type": "code",
   "execution_count": 8,
   "id": "eebd0a99-8b58-47b0-94be-8d71ba60935a",
   "metadata": {},
   "outputs": [],
   "source": [
    "df = pd.DataFrame({\n",
    "    'one': pd.Series(np.random.randn(3), index = ['a', 'b', 'c']),\n",
    "    'two': pd.Series(np.random.randn(4), index=['a', 'b', 'c', 'd']),\n",
    "    'three': pd.Series(np.random.randn(3), index = ['b', 'c', 'd'])})"
   ]
  },
  {
   "cell_type": "code",
   "execution_count": 9,
   "id": "bc66d5fc-f484-4f3c-8d55-b022719d4de5",
   "metadata": {},
   "outputs": [
    {
     "data": {
      "text/plain": [
       "one      0.244973\n",
       "two      0.141112\n",
       "three    0.115705\n",
       "dtype: float64"
      ]
     },
     "execution_count": 9,
     "metadata": {},
     "output_type": "execute_result"
    }
   ],
   "source": [
    "# pre-build numpy function\n",
    "df.apply(np.mean)"
   ]
  },
  {
   "cell_type": "code",
   "execution_count": 10,
   "id": "2b3e7f0a-19a3-488a-b61f-f76d9988ac2d",
   "metadata": {},
   "outputs": [
    {
     "data": {
      "text/plain": [
       "a    0.091453\n",
       "b   -0.351936\n",
       "c    0.295545\n",
       "d    0.816375\n",
       "dtype: float64"
      ]
     },
     "execution_count": 10,
     "metadata": {},
     "output_type": "execute_result"
    }
   ],
   "source": [
    "df.apply(np.mean, axis=1)"
   ]
  },
  {
   "cell_type": "code",
   "execution_count": 11,
   "id": "8239011e-a9fe-4967-9f77-a5a21aee5d66",
   "metadata": {},
   "outputs": [
    {
     "data": {
      "text/plain": [
       "one      1.837462\n",
       "two      2.031592\n",
       "three    1.821197\n",
       "dtype: float64"
      ]
     },
     "execution_count": 11,
     "metadata": {},
     "output_type": "execute_result"
    }
   ],
   "source": [
    "# own lambda function.\n",
    "df.apply(lambda x: x.max() - x.min())"
   ]
  },
  {
   "cell_type": "code",
   "execution_count": 13,
   "id": "fa3e5e9c-3dce-4253-91ec-06136307fb50",
   "metadata": {},
   "outputs": [
    {
     "data": {
      "text/html": [
       "<div>\n",
       "<style scoped>\n",
       "    .dataframe tbody tr th:only-of-type {\n",
       "        vertical-align: middle;\n",
       "    }\n",
       "\n",
       "    .dataframe tbody tr th {\n",
       "        vertical-align: top;\n",
       "    }\n",
       "\n",
       "    .dataframe thead th {\n",
       "        text-align: right;\n",
       "    }\n",
       "</style>\n",
       "<table border=\"1\" class=\"dataframe\">\n",
       "  <thead>\n",
       "    <tr style=\"text-align: right;\">\n",
       "      <th></th>\n",
       "      <th>one</th>\n",
       "      <th>two</th>\n",
       "      <th>three</th>\n",
       "    </tr>\n",
       "  </thead>\n",
       "  <tbody>\n",
       "    <tr>\n",
       "      <th>a</th>\n",
       "      <td>-0.925151</td>\n",
       "      <td>1.108057</td>\n",
       "      <td>NaN</td>\n",
       "    </tr>\n",
       "    <tr>\n",
       "      <th>b</th>\n",
       "      <td>-0.012841</td>\n",
       "      <td>0.184522</td>\n",
       "      <td>-1.044584</td>\n",
       "    </tr>\n",
       "    <tr>\n",
       "      <th>c</th>\n",
       "      <td>0.734920</td>\n",
       "      <td>-0.291690</td>\n",
       "      <td>-0.429498</td>\n",
       "    </tr>\n",
       "    <tr>\n",
       "      <th>d</th>\n",
       "      <td>NaN</td>\n",
       "      <td>0.564446</td>\n",
       "      <td>0.347115</td>\n",
       "    </tr>\n",
       "  </tbody>\n",
       "</table>\n",
       "</div>"
      ],
      "text/plain": [
       "        one       two     three\n",
       "a -0.925151  1.108057       NaN\n",
       "b -0.012841  0.184522 -1.044584\n",
       "c  0.734920 -0.291690 -0.429498\n",
       "d       NaN  0.564446  0.347115"
      ]
     },
     "execution_count": 13,
     "metadata": {},
     "output_type": "execute_result"
    }
   ],
   "source": [
    "# pre-build numpy function\n",
    "df.apply(np.cumsum)"
   ]
  },
  {
   "cell_type": "code",
   "execution_count": 14,
   "id": "1b3092b1-30a0-4f4e-beb9-749e2ae8aeff",
   "metadata": {},
   "outputs": [
    {
     "data": {
      "text/html": [
       "<div>\n",
       "<style scoped>\n",
       "    .dataframe tbody tr th:only-of-type {\n",
       "        vertical-align: middle;\n",
       "    }\n",
       "\n",
       "    .dataframe tbody tr th {\n",
       "        vertical-align: top;\n",
       "    }\n",
       "\n",
       "    .dataframe thead th {\n",
       "        text-align: right;\n",
       "    }\n",
       "</style>\n",
       "<table border=\"1\" class=\"dataframe\">\n",
       "  <thead>\n",
       "    <tr style=\"text-align: right;\">\n",
       "      <th></th>\n",
       "      <th>one</th>\n",
       "      <th>two</th>\n",
       "      <th>three</th>\n",
       "    </tr>\n",
       "  </thead>\n",
       "  <tbody>\n",
       "    <tr>\n",
       "      <th>a</th>\n",
       "      <td>0.396472</td>\n",
       "      <td>3.028469</td>\n",
       "      <td>NaN</td>\n",
       "    </tr>\n",
       "    <tr>\n",
       "      <th>b</th>\n",
       "      <td>2.490069</td>\n",
       "      <td>0.397113</td>\n",
       "      <td>0.351838</td>\n",
       "    </tr>\n",
       "    <tr>\n",
       "      <th>c</th>\n",
       "      <td>2.112265</td>\n",
       "      <td>0.621132</td>\n",
       "      <td>1.849816</td>\n",
       "    </tr>\n",
       "    <tr>\n",
       "      <th>d</th>\n",
       "      <td>NaN</td>\n",
       "      <td>2.354047</td>\n",
       "      <td>2.174096</td>\n",
       "    </tr>\n",
       "  </tbody>\n",
       "</table>\n",
       "</div>"
      ],
      "text/plain": [
       "        one       two     three\n",
       "a  0.396472  3.028469       NaN\n",
       "b  2.490069  0.397113  0.351838\n",
       "c  2.112265  0.621132  1.849816\n",
       "d       NaN  2.354047  2.174096"
      ]
     },
     "execution_count": 14,
     "metadata": {},
     "output_type": "execute_result"
    }
   ],
   "source": [
    "# pre-build numpy function\n",
    "df.apply(np.exp)"
   ]
  },
  {
   "cell_type": "code",
   "execution_count": 15,
   "id": "718b7f93-4bb3-47c8-b263-b6498c576fee",
   "metadata": {},
   "outputs": [
    {
     "data": {
      "text/html": [
       "<div>\n",
       "<style scoped>\n",
       "    .dataframe tbody tr th:only-of-type {\n",
       "        vertical-align: middle;\n",
       "    }\n",
       "\n",
       "    .dataframe tbody tr th {\n",
       "        vertical-align: top;\n",
       "    }\n",
       "\n",
       "    .dataframe thead th {\n",
       "        text-align: right;\n",
       "    }\n",
       "</style>\n",
       "<table border=\"1\" class=\"dataframe\">\n",
       "  <thead>\n",
       "    <tr style=\"text-align: right;\">\n",
       "      <th></th>\n",
       "      <th>one</th>\n",
       "      <th>two</th>\n",
       "      <th>three</th>\n",
       "    </tr>\n",
       "  </thead>\n",
       "  <tbody>\n",
       "    <tr>\n",
       "      <th>a</th>\n",
       "      <td>0.855905</td>\n",
       "      <td>1.227791</td>\n",
       "      <td>NaN</td>\n",
       "    </tr>\n",
       "    <tr>\n",
       "      <th>b</th>\n",
       "      <td>0.832310</td>\n",
       "      <td>0.852917</td>\n",
       "      <td>1.091156</td>\n",
       "    </tr>\n",
       "    <tr>\n",
       "      <th>c</th>\n",
       "      <td>0.559146</td>\n",
       "      <td>0.226778</td>\n",
       "      <td>0.378331</td>\n",
       "    </tr>\n",
       "    <tr>\n",
       "      <th>d</th>\n",
       "      <td>NaN</td>\n",
       "      <td>0.732969</td>\n",
       "      <td>0.603128</td>\n",
       "    </tr>\n",
       "  </tbody>\n",
       "</table>\n",
       "</div>"
      ],
      "text/plain": [
       "        one       two     three\n",
       "a  0.855905  1.227791       NaN\n",
       "b  0.832310  0.852917  1.091156\n",
       "c  0.559146  0.226778  0.378331\n",
       "d       NaN  0.732969  0.603128"
      ]
     },
     "execution_count": 15,
     "metadata": {},
     "output_type": "execute_result"
    }
   ],
   "source": [
    "# you can use apply() to apply your own function:\n",
    "def own_function(x):\n",
    "    return x*x\n",
    "\n",
    "df.apply(own_function)"
   ]
  },
  {
   "cell_type": "code",
   "execution_count": 16,
   "id": "d9b7209a-7895-497f-9d29-6960a7dd8855",
   "metadata": {},
   "outputs": [
    {
     "data": {
      "text/html": [
       "<div>\n",
       "<style scoped>\n",
       "    .dataframe tbody tr th:only-of-type {\n",
       "        vertical-align: middle;\n",
       "    }\n",
       "\n",
       "    .dataframe tbody tr th {\n",
       "        vertical-align: top;\n",
       "    }\n",
       "\n",
       "    .dataframe thead th {\n",
       "        text-align: right;\n",
       "    }\n",
       "</style>\n",
       "<table border=\"1\" class=\"dataframe\">\n",
       "  <thead>\n",
       "    <tr style=\"text-align: right;\">\n",
       "      <th></th>\n",
       "      <th>one</th>\n",
       "      <th>two</th>\n",
       "      <th>three</th>\n",
       "    </tr>\n",
       "  </thead>\n",
       "  <tbody>\n",
       "    <tr>\n",
       "      <th>a</th>\n",
       "      <td>-1.975050</td>\n",
       "      <td>-1.297314</td>\n",
       "      <td>NaN</td>\n",
       "    </tr>\n",
       "    <tr>\n",
       "      <th>b</th>\n",
       "      <td>-1.362563</td>\n",
       "      <td>-1.974512</td>\n",
       "      <td>-2.014861</td>\n",
       "    </tr>\n",
       "    <tr>\n",
       "      <th>c</th>\n",
       "      <td>-1.417413</td>\n",
       "      <td>-1.825404</td>\n",
       "      <td>-1.461638</td>\n",
       "    </tr>\n",
       "    <tr>\n",
       "      <th>d</th>\n",
       "      <td>NaN</td>\n",
       "      <td>-1.381288</td>\n",
       "      <td>-1.407796</td>\n",
       "    </tr>\n",
       "  </tbody>\n",
       "</table>\n",
       "</div>"
      ],
      "text/plain": [
       "        one       two     three\n",
       "a -1.975050 -1.297314       NaN\n",
       "b -1.362563 -1.974512 -2.014861\n",
       "c -1.417413 -1.825404 -1.461638\n",
       "d       NaN -1.381288 -1.407796"
      ]
     },
     "execution_count": 16,
     "metadata": {},
     "output_type": "execute_result"
    }
   ],
   "source": [
    "# you're also able to apply multiple arguments to your functions and have them work through apply()\n",
    "def subtract_and_divide(x, sub, divide=1):\n",
    "    return (x-sub) / divide\n",
    "\n",
    "df.apply(subtract_and_divide, args=(5,3))\n"
   ]
  },
  {
   "cell_type": "code",
   "execution_count": 17,
   "id": "81830572-30ec-455a-b735-596a687bfe50",
   "metadata": {},
   "outputs": [
    {
     "data": {
      "text/html": [
       "<div>\n",
       "<style scoped>\n",
       "    .dataframe tbody tr th:only-of-type {\n",
       "        vertical-align: middle;\n",
       "    }\n",
       "\n",
       "    .dataframe tbody tr th {\n",
       "        vertical-align: top;\n",
       "    }\n",
       "\n",
       "    .dataframe thead th {\n",
       "        text-align: right;\n",
       "    }\n",
       "</style>\n",
       "<table border=\"1\" class=\"dataframe\">\n",
       "  <thead>\n",
       "    <tr style=\"text-align: right;\">\n",
       "      <th></th>\n",
       "      <th>one</th>\n",
       "      <th>two</th>\n",
       "      <th>three</th>\n",
       "    </tr>\n",
       "  </thead>\n",
       "  <tbody>\n",
       "    <tr>\n",
       "      <th>a</th>\n",
       "      <td>-5.925151</td>\n",
       "      <td>-3.891943</td>\n",
       "      <td>NaN</td>\n",
       "    </tr>\n",
       "    <tr>\n",
       "      <th>b</th>\n",
       "      <td>-4.087690</td>\n",
       "      <td>-5.923535</td>\n",
       "      <td>-6.044584</td>\n",
       "    </tr>\n",
       "    <tr>\n",
       "      <th>c</th>\n",
       "      <td>-4.252239</td>\n",
       "      <td>-5.476212</td>\n",
       "      <td>-4.384914</td>\n",
       "    </tr>\n",
       "    <tr>\n",
       "      <th>d</th>\n",
       "      <td>NaN</td>\n",
       "      <td>-4.143864</td>\n",
       "      <td>-4.223387</td>\n",
       "    </tr>\n",
       "  </tbody>\n",
       "</table>\n",
       "</div>"
      ],
      "text/plain": [
       "        one       two     three\n",
       "a -5.925151 -3.891943       NaN\n",
       "b -4.087690 -5.923535 -6.044584\n",
       "c -4.252239 -5.476212 -4.384914\n",
       "d       NaN -4.143864 -4.223387"
      ]
     },
     "execution_count": 17,
     "metadata": {},
     "output_type": "execute_result"
    }
   ],
   "source": [
    "# args are iterable and thus require tuple input even if only one argument is passed\n",
    "def subtract(x, sub):\n",
    "    return (x - sub)\n",
    "\n",
    "df.apply(subtract, args =(5,))"
   ]
  }
 ],
 "metadata": {
  "kernelspec": {
   "display_name": "Python 3 (ipykernel)",
   "language": "python",
   "name": "python3"
  },
  "language_info": {
   "codemirror_mode": {
    "name": "ipython",
    "version": 3
   },
   "file_extension": ".py",
   "mimetype": "text/x-python",
   "name": "python",
   "nbconvert_exporter": "python",
   "pygments_lexer": "ipython3",
   "version": "3.12.7"
  }
 },
 "nbformat": 4,
 "nbformat_minor": 5
}
