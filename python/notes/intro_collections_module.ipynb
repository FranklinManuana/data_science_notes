{
 "cells": [
  {
   "cell_type": "markdown",
   "id": "37634f74-839c-4515-be0c-0011917527a6",
   "metadata": {},
   "source": [
    "### The Counter"
   ]
  },
  {
   "cell_type": "code",
   "execution_count": 2,
   "id": "ed9f5d1e-6ace-4dd0-8f96-2d98826b13fe",
   "metadata": {},
   "outputs": [],
   "source": [
    "# Counter is a dictionary subclass that takes iterables\n",
    "# And returns a dictionary\n",
    "from collections import Counter"
   ]
  },
  {
   "cell_type": "code",
   "execution_count": 12,
   "id": "bae9dd29-7be2-41c6-a936-a8a0bc79b4d6",
   "metadata": {},
   "outputs": [
    {
     "data": {
      "text/plain": [
       "Counter({1: 3, 2: 2, 3: 2, 4: 1, 6: 1, 7: 1, 8: 1})"
      ]
     },
     "execution_count": 12,
     "metadata": {},
     "output_type": "execute_result"
    }
   ],
   "source": [
    "# A list argument can be passed to Counter\n",
    "List = [1,2,3,4,1,2,6,7,3,8,1]\n",
    "Counter(List)"
   ]
  },
  {
   "cell_type": "code",
   "execution_count": 4,
   "id": "d4f6b2da-9f2d-49db-8865-c9c333d91062",
   "metadata": {},
   "outputs": [
    {
     "data": {
      "text/plain": [
       "Counter({2: 4, 1: 3})"
      ]
     },
     "execution_count": 4,
     "metadata": {},
     "output_type": "execute_result"
    }
   ],
   "source": [
    "# A dictionary argument can be passed to Counter\n",
    "Counter({1:3, 2:4})"
   ]
  },
  {
   "cell_type": "code",
   "execution_count": 13,
   "id": "47f0fe18-1a79-401d-b23b-964af05a6ebb",
   "metadata": {},
   "outputs": [
    {
     "name": "stdout",
     "output_type": "stream",
     "text": [
      "3\n"
     ]
    }
   ],
   "source": [
    "List = [1,2,3,4,1,2,6,7,3,8,1]\n",
    "cnt = Counter(List)\n",
    "print(cnt[1])"
   ]
  },
  {
   "cell_type": "markdown",
   "id": "874cbb14-ad5c-453a-b230-6e1d55dbdaf1",
   "metadata": {},
   "source": [
    "### The element() Function"
   ]
  },
  {
   "cell_type": "code",
   "execution_count": 14,
   "id": "06fcc51f-777d-4430-ad64-2299684f7c2f",
   "metadata": {},
   "outputs": [
    {
     "ename": "TypeError",
     "evalue": "'list' object is not callable",
     "output_type": "error",
     "traceback": [
      "\u001b[0;31m---------------------------------------------------------------------------\u001b[0m",
      "\u001b[0;31mTypeError\u001b[0m                                 Traceback (most recent call last)",
      "Cell \u001b[0;32mIn[14], line 2\u001b[0m\n\u001b[1;32m      1\u001b[0m cnt \u001b[38;5;241m=\u001b[39m Counter({\u001b[38;5;241m1\u001b[39m:\u001b[38;5;241m3\u001b[39m, \u001b[38;5;241m2\u001b[39m:\u001b[38;5;241m4\u001b[39m})\n\u001b[0;32m----> 2\u001b[0m \u001b[38;5;28mprint\u001b[39m(\u001b[38;5;28mlist\u001b[39m(cnt\u001b[38;5;241m.\u001b[39melements()))\n",
      "\u001b[0;31mTypeError\u001b[0m: 'list' object is not callable"
     ]
    }
   ],
   "source": [
    "cnt = Counter({1:3, 2:4})\n",
    "print(list(cnt.elements()))"
   ]
  },
  {
   "cell_type": "markdown",
   "id": "8beec04d-18e4-4105-bd2e-2924faa2cb9b",
   "metadata": {},
   "source": [
    "### The most_common() Function"
   ]
  },
  {
   "cell_type": "code",
   "execution_count": 15,
   "id": "426d0eec-9639-4141-b18b-40e69c854050",
   "metadata": {},
   "outputs": [
    {
     "name": "stdout",
     "output_type": "stream",
     "text": [
      "[(1, 3), (2, 2), (3, 2), (4, 1), (6, 1), (7, 1), (8, 1)]\n"
     ]
    }
   ],
   "source": [
    "List = [1,2,3,4,1,2,6,7,3,8,1]\n",
    "cnt = Counter(List)\n",
    "print(cnt.most_common())"
   ]
  },
  {
   "cell_type": "markdown",
   "id": "743dc7af-1195-41e2-a453-9addb9a2ae20",
   "metadata": {},
   "source": [
    "### The substract() Function"
   ]
  },
  {
   "cell_type": "code",
   "execution_count": 16,
   "id": "9c57b287-d479-4afd-9803-4564b99d5de2",
   "metadata": {},
   "outputs": [
    {
     "name": "stdout",
     "output_type": "stream",
     "text": [
      "Counter({1: 2, 2: 2})\n"
     ]
    }
   ],
   "source": [
    "cnt = Counter({1:3, 2:4})\n",
    "deduct = {1:1, 2:2}\n",
    "cnt.subtract(deduct)\n",
    "print(cnt)"
   ]
  },
  {
   "cell_type": "markdown",
   "id": "87694e13-8276-4caa-bba3-9251e1273a5d",
   "metadata": {},
   "source": [
    "### The defaultdict"
   ]
  },
  {
   "cell_type": "code",
   "execution_count": 17,
   "id": "12954ee7-b38f-462a-80be-39b9627579da",
   "metadata": {},
   "outputs": [],
   "source": [
    "from collections import defaultdict"
   ]
  },
  {
   "cell_type": "code",
   "execution_count": 18,
   "id": "c7d9d9ad-2aa0-4400-81db-0b94df19d853",
   "metadata": {},
   "outputs": [
    {
     "name": "stdout",
     "output_type": "stream",
     "text": [
      "0\n"
     ]
    }
   ],
   "source": [
    "# Create a defaultdictionary\n",
    "nums = defaultdict(int) # pass integer type as argument\n",
    "nums['one'] = 1\n",
    "nums['two'] = 2\n",
    "print(nums['three'])"
   ]
  },
  {
   "cell_type": "code",
   "execution_count": 20,
   "id": "8bc66af0-7272-4274-a532-12fda6de1632",
   "metadata": {},
   "outputs": [
    {
     "name": "stdout",
     "output_type": "stream",
     "text": [
      "defaultdict(<class 'int'>, {'Mike': 5, 'John': 3, 'Anna': 2, 'Britney': 1, 'Smith': 2})\n"
     ]
    }
   ],
   "source": [
    "# Example of when default value creation is useful\n",
    "from collections import defaultdict\n",
    "\n",
    "count = defaultdict(int)\n",
    "names_list = \"Mike John Mike Anna Mike John John Mike Mike Britney Smith Anna Smith\".split()\n",
    "for names in names_list:\n",
    "    count[names] += 1\n",
    "print(count)"
   ]
  },
  {
   "cell_type": "markdown",
   "id": "e74de8e0-301b-43c9-9ca6-6cb9be0aeff7",
   "metadata": {},
   "source": [
    "### The OrderedDict"
   ]
  },
  {
   "cell_type": "code",
   "execution_count": 21,
   "id": "b83b3edf-44cd-4c14-8f2d-18d4c423d01c",
   "metadata": {},
   "outputs": [],
   "source": [
    "# ordered dictionary maintains key order in which they were inserted\n",
    "# Chainging the key value will not change the key position\n",
    "\n",
    "from collections import OrderedDict"
   ]
  },
  {
   "cell_type": "code",
   "execution_count": 22,
   "id": "632c6a07-db24-4585-9f71-ece8467fc1a9",
   "metadata": {},
   "outputs": [
    {
     "name": "stdout",
     "output_type": "stream",
     "text": [
      "OrderedDict({'a': 1, 'b': 2, 'c': 3})\n"
     ]
    }
   ],
   "source": [
    "od = OrderedDict()\n",
    "od['a'] = 1\n",
    "od['b'] = 2\n",
    "od['c'] = 3\n",
    "print(od)"
   ]
  },
  {
   "cell_type": "code",
   "execution_count": 23,
   "id": "5b863015-0505-481b-a318-488132686836",
   "metadata": {},
   "outputs": [
    {
     "name": "stdout",
     "output_type": "stream",
     "text": [
      "a 1\n",
      "b 2\n",
      "c 3\n"
     ]
    }
   ],
   "source": [
    "# We're able to acces each element using a loop\n",
    "for key, value in od.items():\n",
    "    print(key,value)"
   ]
  },
  {
   "cell_type": "code",
   "execution_count": 25,
   "id": "da2ebdf5-984c-4bfe-8d10-be26b5b6a74e",
   "metadata": {},
   "outputs": [
    {
     "name": "stdout",
     "output_type": "stream",
     "text": [
      "a 4\n",
      "c 3\n",
      "b 2\n"
     ]
    }
   ],
   "source": [
    "# We can also combine OrderedDict and Counter functions\n",
    "List = [\"a\", \"c\", \"c\", \"a\", \"b\", \"a\", \"a\", \"b\", \"c\"]\n",
    "cnt = Counter(List)\n",
    "od = OrderedDict(cnt.most_common())\n",
    "for key, value in od.items():\n",
    "    print(key, value)"
   ]
  },
  {
   "cell_type": "markdown",
   "id": "a6af5d3c-e648-4c14-bf3a-b354f829c1e2",
   "metadata": {},
   "source": [
    "### The deque() Function"
   ]
  },
  {
   "cell_type": "code",
   "execution_count": 26,
   "id": "5221baa4-eea4-4044-a87d-54a5144a1c11",
   "metadata": {},
   "outputs": [],
   "source": [
    "# The deque is a list optimized for inserting and removing itmes\n",
    "from collections import deque"
   ]
  },
  {
   "cell_type": "code",
   "execution_count": 27,
   "id": "7aa1c84d-dfe3-4135-85ee-0654b2f4edcd",
   "metadata": {},
   "outputs": [
    {
     "name": "stdout",
     "output_type": "stream",
     "text": [
      "deque(['a', 'b', 'c'])\n"
     ]
    }
   ],
   "source": [
    "# Creating a deque\n",
    "List = [\"a\", \"b\", \"c\"]\n",
    "deq = deque(List)\n",
    "print(deq)"
   ]
  },
  {
   "cell_type": "code",
   "execution_count": 30,
   "id": "e14a8b78-632f-44af-9083-d7fb5ad125e6",
   "metadata": {},
   "outputs": [
    {
     "name": "stdout",
     "output_type": "stream",
     "text": [
      "deque(['e', 'a', 'b', 'c', 'd'])\n"
     ]
    }
   ],
   "source": [
    "# with deque, bidirectional appending is now possible\n",
    "deq.append(\"d\") # added at end of list\n",
    "deq.appendleft(\"e\") # added at start of list\n",
    "print(deq)"
   ]
  },
  {
   "cell_type": "code",
   "execution_count": 31,
   "id": "148850f0-520f-4c2c-9d03-cb67ebe56775",
   "metadata": {},
   "outputs": [
    {
     "name": "stdout",
     "output_type": "stream",
     "text": [
      "deque(['a', 'b', 'c'])\n"
     ]
    }
   ],
   "source": [
    "# Removing Elements from the deque\n",
    "deq.pop()\n",
    "deq.popleft()\n",
    "print(deq)"
   ]
  },
  {
   "cell_type": "code",
   "execution_count": 32,
   "id": "969374c5-891f-417e-9b3d-7afeaf17c1ce",
   "metadata": {},
   "outputs": [
    {
     "name": "stdout",
     "output_type": "stream",
     "text": [
      "deque(['a', 'b', 'c'])\n",
      "None\n"
     ]
    }
   ],
   "source": [
    "# clearing a deque\n",
    "List = [\"a\", \"b\", \"c\"]\n",
    "deq = deque(List)\n",
    "print(deq)\n",
    "print(deq.clear())"
   ]
  },
  {
   "cell_type": "markdown",
   "id": "4c2658a5-7268-4554-99b1-c3f4c39ed9f4",
   "metadata": {},
   "source": [
    "#### Counting Elements in a deque"
   ]
  },
  {
   "cell_type": "code",
   "execution_count": 33,
   "id": "dd118a66-ad15-4377-9494-302303b3ae48",
   "metadata": {},
   "outputs": [
    {
     "name": "stdout",
     "output_type": "stream",
     "text": [
      "1\n"
     ]
    }
   ],
   "source": [
    "L = [\"a\", \"b\", \"c\"]\n",
    "deq = deque(L)\n",
    "print(deq.count(\"a\"))"
   ]
  },
  {
   "cell_type": "markdown",
   "id": "559bfa57-6f39-417d-9203-6aab88b1004a",
   "metadata": {},
   "source": [
    "### The ChainMap"
   ]
  },
  {
   "cell_type": "code",
   "execution_count": 34,
   "id": "f892161e-3fb0-42a0-ae3c-da7d19f5f22c",
   "metadata": {},
   "outputs": [],
   "source": [
    "# The ChainMap is used to combine multiple dicitonaries or mappings.\n",
    "# And returns a list of dictionaries\n",
    "from collections import ChainMap"
   ]
  },
  {
   "cell_type": "code",
   "execution_count": 35,
   "id": "ca5279e0-6337-4807-b03b-d1c144a57ae7",
   "metadata": {},
   "outputs": [
    {
     "name": "stdout",
     "output_type": "stream",
     "text": [
      "[{'a': 1, 'b': 2}, {'c': 3, 'b': 4}]\n"
     ]
    }
   ],
   "source": [
    "# Create a ChainMap\n",
    "dict1 = {'a': 1, 'b' : 2}\n",
    "dict2 = {'c' : 3, 'b' : 4}\n",
    "chain_map = ChainMap(dict1, dict2)\n",
    "print(chain_map.maps)"
   ]
  },
  {
   "cell_type": "code",
   "execution_count": 36,
   "id": "d3cb1824-18df-4a8d-a88c-321ea783da72",
   "metadata": {},
   "outputs": [
    {
     "name": "stdout",
     "output_type": "stream",
     "text": [
      "1\n"
     ]
    }
   ],
   "source": [
    "print(chain_map['a'])"
   ]
  },
  {
   "cell_type": "code",
   "execution_count": 37,
   "id": "e51c2485-aee0-4c41-a557-23295b2f3130",
   "metadata": {},
   "outputs": [
    {
     "name": "stdout",
     "output_type": "stream",
     "text": [
      "[{'a': 1, 'b': 2}, {'c': 5, 'b': 4}]\n"
     ]
    }
   ],
   "source": [
    "dict2['c'] = 5 # changing the value in the individual dictionary is reflected in the map\n",
    "print(chain_map.maps)"
   ]
  },
  {
   "cell_type": "markdown",
   "id": "8eee1bd3-4811-4b46-b656-0c32311bc790",
   "metadata": {},
   "source": [
    "### Adding a New Dictionary to ChainMap"
   ]
  },
  {
   "cell_type": "code",
   "execution_count": 38,
   "id": "7e6daf3d-7960-4044-9718-bd2add28289b",
   "metadata": {},
   "outputs": [
    {
     "name": "stdout",
     "output_type": "stream",
     "text": [
      "ChainMap({'e': 5, 'f': 6}, {'a': 1, 'b': 2}, {'c': 5, 'b': 4})\n"
     ]
    }
   ],
   "source": [
    "dict3 = {'e': 5, 'f': 6}\n",
    "new_chain_map = chain_map.new_child(dict3)\n",
    "print(new_chain_map) # notice how the new dictionary is added at the begining of map"
   ]
  },
  {
   "cell_type": "markdown",
   "id": "57094195-3b74-4467-a3b2-6fd0d31ec750",
   "metadata": {},
   "source": [
    "## The namedtuple() Function"
   ]
  },
  {
   "cell_type": "code",
   "execution_count": 40,
   "id": "769ddcdd-09f4-4058-afea-f4584ee99315",
   "metadata": {},
   "outputs": [],
   "source": [
    "# Returns a tuple with names for each position in the tuple.\n",
    "# This helps remedy the problem of having to memorize index\n",
    "from collections import namedtuple"
   ]
  },
  {
   "cell_type": "code",
   "execution_count": 44,
   "id": "4f1b975c-154c-4ec1-ab10-34bc217b1632",
   "metadata": {},
   "outputs": [
    {
     "name": "stdout",
     "output_type": "stream",
     "text": [
      "John\n"
     ]
    }
   ],
   "source": [
    "# Create a namedtuple\n",
    "Student = namedtuple('Student', 'fname, lname, age')\n",
    "s1 = Student('John','Clarke','13')\n",
    "print(s1.fname)"
   ]
  },
  {
   "cell_type": "code",
   "execution_count": 45,
   "id": "9cba5f80-7007-4004-b63a-129965388718",
   "metadata": {},
   "outputs": [
    {
     "name": "stdout",
     "output_type": "stream",
     "text": [
      "Student(fname='Adam', lname='joe', age='18')\n"
     ]
    }
   ],
   "source": [
    "# Creating a namedtuple using a list\n",
    "s2 = Student._make(['Adam', 'joe', '18'])\n",
    "print(s2)"
   ]
  },
  {
   "cell_type": "code",
   "execution_count": 46,
   "id": "51cbdee4-077a-4fd9-898b-6bb08b134e3e",
   "metadata": {},
   "outputs": [
    {
     "name": "stdout",
     "output_type": "stream",
     "text": [
      "{'fname': 'John', 'lname': 'Clarke', 'age': '13'}\n"
     ]
    }
   ],
   "source": [
    "# Creating a new instance using existinfg instance\n",
    "s2 = s1._asdict()\n",
    "print(s2)"
   ]
  },
  {
   "cell_type": "markdown",
   "id": "9fc41e20-89ab-465c-a555-43b0e9c17867",
   "metadata": {},
   "source": [
    "## Changing Field Values with the _replace() Function"
   ]
  },
  {
   "cell_type": "code",
   "execution_count": 47,
   "id": "da749d40-2b7b-4c7f-afd2-be096d78c548",
   "metadata": {},
   "outputs": [
    {
     "name": "stdout",
     "output_type": "stream",
     "text": [
      "Student(fname='John', lname='Clarke', age='13')\n",
      "Student(fname='John', lname='Clarke', age='14')\n"
     ]
    }
   ],
   "source": [
    "s2 = s1._replace(age = '14')\n",
    "print(s1)\n",
    "print(s2)"
   ]
  },
  {
   "cell_type": "code",
   "execution_count": null,
   "id": "4d23495b-7eac-4d59-9729-a6a9db1edf38",
   "metadata": {},
   "outputs": [],
   "source": []
  }
 ],
 "metadata": {
  "kernelspec": {
   "display_name": "Python 3 (ipykernel)",
   "language": "python",
   "name": "python3"
  },
  "language_info": {
   "codemirror_mode": {
    "name": "ipython",
    "version": 3
   },
   "file_extension": ".py",
   "mimetype": "text/x-python",
   "name": "python",
   "nbconvert_exporter": "python",
   "pygments_lexer": "ipython3",
   "version": "3.12.7"
  }
 },
 "nbformat": 4,
 "nbformat_minor": 5
}
