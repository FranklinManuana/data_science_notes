{
 "cells": [
  {
   "cell_type": "markdown",
   "id": "d4a40365-0725-47cc-9aaf-b5524443635f",
   "metadata": {},
   "source": [
    "Sets have the following characteristics which make them ideal for data analysis:\n",
    "- sets are unordered\n",
    "- set elements are unique(duplicate elements not allowed)\n",
    "- set can be modified but elements within the set are immutable"
   ]
  },
  {
   "cell_type": "code",
   "execution_count": 2,
   "id": "a3238a14-125c-4ae5-9f5d-09abdd92af90",
   "metadata": {},
   "outputs": [],
   "source": [
    "#Sets can be defined in one of two fashions\n",
    "x = set(['foo', 'bar', 'baz', 'foo', 'qux'])\n",
    "x = set(('foo', 'bar', 'baz', 'foo', 'qux'))"
   ]
  },
  {
   "cell_type": "markdown",
   "id": "5a669e99-619b-410e-9f30-0b73fdd55701",
   "metadata": {},
   "source": []
  }
 ],
 "metadata": {
  "kernelspec": {
   "display_name": "LHL_DS",
   "language": "python",
   "name": "lhl_ds"
  },
  "language_info": {
   "codemirror_mode": {
    "name": "ipython",
    "version": 3
   },
   "file_extension": ".py",
   "mimetype": "text/x-python",
   "name": "python",
   "nbconvert_exporter": "python",
   "pygments_lexer": "ipython3",
   "version": "3.9.21"
  }
 },
 "nbformat": 4,
 "nbformat_minor": 5
}
