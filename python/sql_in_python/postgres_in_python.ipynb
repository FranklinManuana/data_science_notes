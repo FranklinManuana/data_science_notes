{
 "cells": [
  {
   "cell_type": "markdown",
   "id": "1eb22b9a",
   "metadata": {},
   "source": [
    "## Connecting to a Database"
   ]
  },
  {
   "cell_type": "code",
   "execution_count": 2,
   "id": "1640f9e7",
   "metadata": {},
   "outputs": [
    {
     "name": "stdout",
     "output_type": "stream",
     "text": [
      "Database opened successfully\n"
     ]
    },
    {
     "name": "stderr",
     "output_type": "stream",
     "text": [
      "WARNING:  database \"northwind\" has a collation version mismatch\n",
      "DETAIL:  The database was created using collation version 2.31, but the operating system provides version 2.35.\n",
      "HINT:  Rebuild all objects in this database that use the default collation and run ALTER DATABASE northwind REFRESH COLLATION VERSION, or build PostgreSQL with the right library version.\n"
     ]
    }
   ],
   "source": [
    "# import the psycopg2 library\n",
    "import psycopg2\n",
    "\n",
    "#create connection objection\n",
    "con = psycopg2.connect(database=\"northwind\", user=\"postgres\", password=\"yukimaru28\", host=\"127.0.0.1\", port=\"5432\")\n",
    "\n",
    "#print statement\n",
    "print(\"Database opened successfully\")"
   ]
  },
  {
   "cell_type": "code",
   "execution_count": 3,
   "id": "f600e396",
   "metadata": {},
   "outputs": [
    {
     "name": "stdout",
     "output_type": "stream",
     "text": [
      "orderid= 10248\n",
      "orderid= 10249\n",
      "orderid= 10250\n",
      "orderid= 10251\n",
      "orderid= 10252\n",
      "orderid= 10253\n",
      "orderid= 10254\n",
      "orderid= 10255\n",
      "orderid= 10256\n",
      "orderid= 10257\n",
      "orderid= 10258\n",
      "orderid= 10259\n",
      "orderid= 10260\n",
      "orderid= 10261\n",
      "orderid= 10262\n",
      "orderid= 10263\n",
      "orderid= 10264\n",
      "orderid= 10265\n",
      "orderid= 10266\n",
      "orderid= 10267\n"
     ]
    }
   ],
   "source": [
    "cur = con.cursor()\n",
    "cur.execute('''SELECT * FROM orders LIMIT 20''')\n",
    "rows = cur.fetchall()\n",
    "for row in rows:\n",
    "    print(\"orderid=\", row[0])\n",
    "\n",
    "con.close()"
   ]
  },
  {
   "cell_type": "markdown",
   "id": "51174c0d",
   "metadata": {},
   "source": [
    "## Creating a Table"
   ]
  },
  {
   "cell_type": "markdown",
   "id": "1d92528c",
   "metadata": {},
   "source": [
    "*<u>review collation version mismatch</u>"
   ]
  },
  {
   "cell_type": "markdown",
   "id": "0d846cc0",
   "metadata": {},
   "source": []
  }
 ],
 "metadata": {
  "kernelspec": {
   "display_name": "base",
   "language": "python",
   "name": "python3"
  },
  "language_info": {
   "codemirror_mode": {
    "name": "ipython",
    "version": 3
   },
   "file_extension": ".py",
   "mimetype": "text/x-python",
   "name": "python",
   "nbconvert_exporter": "python",
   "pygments_lexer": "ipython3",
   "version": "3.12.7"
  }
 },
 "nbformat": 4,
 "nbformat_minor": 5
}
