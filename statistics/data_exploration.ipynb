{
 "cells": [
  {
   "cell_type": "markdown",
   "id": "9af5435a",
   "metadata": {},
   "source": [
    "## Data Exploration"
   ]
  },
  {
   "cell_type": "code",
   "execution_count": 1,
   "id": "b2066a12",
   "metadata": {},
   "outputs": [],
   "source": [
    "# import necessary modules\n",
    "# Arithmatic modules\n",
    "import pandas as pd\n",
    "import numpy as np\n",
    "\n",
    "#Visualizaiton modules\n",
    "import matplotlib.pyplot as plt\n",
    "import seaborn as sns\n"
   ]
  }
 ],
 "metadata": {
  "kernelspec": {
   "display_name": "base",
   "language": "python",
   "name": "python3"
  },
  "language_info": {
   "codemirror_mode": {
    "name": "ipython",
    "version": 3
   },
   "file_extension": ".py",
   "mimetype": "text/x-python",
   "name": "python",
   "nbconvert_exporter": "python",
   "pygments_lexer": "ipython3",
   "version": "3.12.7"
  }
 },
 "nbformat": 4,
 "nbformat_minor": 5
}
