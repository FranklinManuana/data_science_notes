{
 "cells": [
  {
   "cell_type": "code",
   "execution_count": 1,
   "id": "8f8344db",
   "metadata": {},
   "outputs": [],
   "source": [
    "#import numpy\n",
    "import numpy as np\n",
    "\n",
    "\n",
    "# set a random see to replicate results\n",
    "np.random.seed(42)"
   ]
  },
  {
   "cell_type": "code",
   "execution_count": 3,
   "id": "432e5e53",
   "metadata": {},
   "outputs": [],
   "source": [
    "# sales history in days\n",
    "history = 365\n",
    "\n",
    "# generate one-year sales for store A\n",
    "mean_A = 20\n",
    "std_A = 5\n",
    "shop_A_sales = np.random.normal(mean_A, std_A, history)\n",
    "\n",
    "# generate one-year sales for store B\n",
    "mean_B = 19.5\n",
    "std_B = 5\n",
    "shop_B_sales = np.random.normal(mean_B, std_B, history)\n"
   ]
  },
  {
   "cell_type": "code",
   "execution_count": 4,
   "id": "1db92dea",
   "metadata": {},
   "outputs": [],
   "source": [
    "# set the significance level\n",
    "alpha = 0.05"
   ]
  },
  {
   "cell_type": "code",
   "execution_count": 5,
   "id": "4c31e45a",
   "metadata": {},
   "outputs": [
    {
     "name": "stdout",
     "output_type": "stream",
     "text": [
      "19.809929401404304\n",
      "20.134680546518656\n",
      "-0.32475114511435166\n"
     ]
    }
   ],
   "source": [
    "# print the store A mean\n",
    "print(shop_A_sales.mean())\n",
    "\n",
    "# print the store B mean\n",
    "print(shop_B_sales.mean())\n",
    "\n",
    "# the differnce in the means\n",
    "observed_means_diff = shop_A_sales.mean() - shop_B_sales.mean()\n",
    "print(observed_means_diff)"
   ]
  },
  {
   "cell_type": "code",
   "execution_count": 7,
   "id": "c3b1ad29",
   "metadata": {},
   "outputs": [],
   "source": [
    "both_sales = np.concatenate((shop_A_sales, shop_B_sales))"
   ]
  },
  {
   "cell_type": "code",
   "execution_count": 8,
   "id": "252538f9",
   "metadata": {},
   "outputs": [],
   "source": [
    "#permutation\n",
    "sales_perm = np.random.permutation(both_sales)\n",
    "\n",
    "# permutation replicates\n",
    "perm_shop_A_sales = sales_perm[:len(shop_A_sales)]\n",
    "perm_shop_B_sales = sales_perm[len(shop_A_sales):]"
   ]
  },
  {
   "cell_type": "code",
   "execution_count": 9,
   "id": "67b81aeb",
   "metadata": {},
   "outputs": [
    {
     "name": "stdout",
     "output_type": "stream",
     "text": [
      "0.08612827012975188\n"
     ]
    }
   ],
   "source": [
    "print(perm_shop_A_sales.mean() - perm_shop_B_sales.mean())"
   ]
  },
  {
   "cell_type": "code",
   "execution_count": 10,
   "id": "60b9a25a",
   "metadata": {},
   "outputs": [],
   "source": [
    "#Create an empty list to store the permutaiton replicate means\n",
    "perm_repl_means = []\n",
    "\n",
    "for _ in range(1000):\n",
    "    #permutation\n",
    "    sales_perm = np.random.permutation(both_sales)\n",
    "\n",
    "    #permutaiton replicates\n",
    "    perm_shop_A_sales = sales_perm[:len(shop_A_sales)]\n",
    "    perm_shop_B_sales = sales_perm[len(shop_A_sales):]\n",
    "\n",
    "    #permutationreplicates mean\n",
    "    perm_repl_mean = perm_shop_A_sales.mean() - perm_shop_B_sales.mean()\n",
    "\n",
    "    #append perm_repl_mean to list\n",
    "    perm_repl_means.append(perm_repl_mean)"
   ]
  },
  {
   "cell_type": "code",
   "execution_count": 11,
   "id": "ea68bfbf",
   "metadata": {},
   "outputs": [
    {
     "name": "stdout",
     "output_type": "stream",
     "text": [
      "p-value = 1.0\n"
     ]
    }
   ],
   "source": [
    "#compute the p-value\n",
    "p=np.sum(np.abs(perm_repl_means) >= observed_means_diff) / len(perm_repl_means)\n",
    "\n",
    "#print the result\n",
    "print('p-value =', p)"
   ]
  },
  {
   "cell_type": "code",
   "execution_count": 12,
   "id": "fa811907",
   "metadata": {},
   "outputs": [
    {
     "name": "stdout",
     "output_type": "stream",
     "text": [
      "H0 is not rejected\n"
     ]
    }
   ],
   "source": [
    "#final decision\n",
    "if p < alpha:\n",
    "    print('H0 is rejected')\n",
    "else:\n",
    "    print('H0 is not rejected')"
   ]
  }
 ],
 "metadata": {
  "kernelspec": {
   "display_name": "base",
   "language": "python",
   "name": "python3"
  },
  "language_info": {
   "codemirror_mode": {
    "name": "ipython",
    "version": 3
   },
   "file_extension": ".py",
   "mimetype": "text/x-python",
   "name": "python",
   "nbconvert_exporter": "python",
   "pygments_lexer": "ipython3",
   "version": "3.12.7"
  }
 },
 "nbformat": 4,
 "nbformat_minor": 5
}
