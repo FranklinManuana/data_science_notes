{
 "cells": [
  {
   "cell_type": "markdown",
   "metadata": {},
   "source": [
    "## Pandas Accessing Data"
   ]
  },
  {
   "cell_type": "code",
   "execution_count": 1,
   "metadata": {},
   "outputs": [],
   "source": [
    "import pandas as pd\n",
    "import numpy as np\n",
    "\n",
    "# initialize some sample data\n",
    "dates = pd.date_range('20130101', periods=6)\n",
    "random_df = pd.DataFrame(np.random.randn(6, 4), index=dates, columns=list('ABCD'))\n",
    "random_df_original = random_df.copy()\n"
   ]
  },
  {
   "cell_type": "markdown",
   "metadata": {},
   "source": [
    "## Getting Specific Data\n",
    "\n",
    "Below is a cheatsheet of different accessing methods. "
   ]
  },
  {
   "cell_type": "markdown",
   "metadata": {},
   "source": [
    "| Operation                         | Syntax              | Result      |\n",
    "|-----------------------------------|---------------------|-------------|\n",
    "| Select column                     | df[col]             | Series      |\n",
    "| Select row by label               | df.loc[label]       | Series      |\n",
    "| Select row by integer location    | df.iloc[loc]        | Series      |\n",
    "| Select row AND column by label               | df.loc[row label, column label]       | Depends     |\n",
    "| Select row AND column by integer location    | df.iloc[row int, column int]        | Depends     |\n",
    "| Slice rows                        | df[5:10]            | DataFrame   |\n",
    "| Select rows by boolean vector     | df[bool_vec]        | DataFrame   |\n"
   ]
  },
  {
   "cell_type": "markdown",
   "metadata": {},
   "source": [
    "The datatype of the output is determined automatically based on the output's dimensions. \n",
    "\n",
    "For example, if we index multiple rows and columns, the object remains a dataframe - it's still '2D'.\n",
    "\n",
    "If we index only a single row, or a single column, we get a Series - its '1D' now.\n",
    "\n",
    "If we index exactly one row and one column, we get a single value - so its just whatever datatype is stored there (i.e. int, float, str, etc).\n",
    "\n",
    "Two edge-case exceptions to this are shown at the bottom. If we slice exactly one row, as in `df[0:1]`, we still get a DataFrame. Also, if we select rows of a dataframe with only one column with a boolean vector, it stays a dataframe."
   ]
  },
  {
   "cell_type": "markdown",
   "metadata": {},
   "source": [
    "### Select Columns With `[ ]`"
   ]
  },
  {
   "cell_type": "code",
   "execution_count": null,
   "metadata": {},
   "outputs": [],
   "source": [
    "random_df['A']"
   ]
  },
  {
   "cell_type": "markdown",
   "metadata": {},
   "source": [
    "You can also index multiple columns by passing a List. Note that the syntax here is `df[['A', 'B']]` with list brackets inside the index brackets, not `df['A', 'B']`."
   ]
  },
  {
   "cell_type": "code",
   "execution_count": null,
   "metadata": {},
   "outputs": [],
   "source": [
    "random_df[['A', 'B', 'D']]"
   ]
  },
  {
   "cell_type": "markdown",
   "metadata": {},
   "source": [
    "> Note: It is also possible to index columns using the syntax `df.A` which is equivalent to `df['A']`.\n",
    "\n",
    "> However, it is not best practice to do this because of possible confusion with DataFrame methods (example below)."
   ]
  },
  {
   "cell_type": "code",
   "execution_count": null,
   "metadata": {},
   "outputs": [],
   "source": [
    "random_df['rank'] = range(1,7) # new column called rank with values 1-6\n",
    "\n",
    "print((random_df['A'] == random_df.A).all()) # are these the same? Yes\n",
    "\n",
    "print((random_df['rank'] == random_df.rank).all()) # are these the same? No\n",
    "\n",
    "print(f\"What's in random_df.rank? {type(random_df.rank)}\")"
   ]
  },
  {
   "cell_type": "markdown",
   "metadata": {},
   "source": [
    "> `df.rank` and `df['rank']` are not the same, because `.rank` is a special name for a function that acts on a dataframe (think like `.sort()` or similar).\n",
    "\n",
    "> `df['rank']` syntax is safer, so is preferrable."
   ]
  },
  {
   "cell_type": "markdown",
   "metadata": {},
   "source": [
    "### Slicing Rows with `[ ]`\n",
    "\n",
    "Square brackets can also slice rows.\n",
    "- If you pass a single string or list of strings, it interprets as column names\n",
    "- If you pass a slice (i.e. with `:`), it will slice the rows\n",
    "\n",
    "Slicing DataFrames follows the same rules as slicing NumPy Arrays, except you cannot slice both rows and columns, only rows."
   ]
  },
  {
   "cell_type": "code",
   "execution_count": null,
   "metadata": {},
   "outputs": [],
   "source": [
    "random_df[0:2]\n",
    "\n",
    "##This one throws an error\n",
    "# random_df[0:2, 0:2]"
   ]
  },
  {
   "cell_type": "markdown",
   "metadata": {},
   "source": [
    "You can also slice using index labels. Interestingly, this also includes the final 'stop' label (`2013-01-03` here), while numerical slices do not."
   ]
  },
  {
   "cell_type": "code",
   "execution_count": null,
   "metadata": {},
   "outputs": [],
   "source": [
    "random_df['2013-01-01':'2013-01-03']"
   ]
  },
  {
   "cell_type": "markdown",
   "metadata": {},
   "source": [
    "### Selection by Label with `.loc`\n",
    "\n",
    "`.loc` and `.iloc` are the preferred methods for accessing specific data because of the ability to access both specific rows AND specific columns simultaneously, and are extremely flexible.\n",
    "\n",
    "Select first row based on index label:"
   ]
  },
  {
   "cell_type": "code",
   "execution_count": null,
   "metadata": {},
   "outputs": [],
   "source": [
    "random_df.loc[\"2013-01-01\"]"
   ]
  },
  {
   "cell_type": "markdown",
   "metadata": {},
   "source": [
    "Select multiple columns by name:\n",
    "\n",
    "`:` represents that we want to take all the rows as well as the list, `['A', 'B']`, which represents the columns."
   ]
  },
  {
   "cell_type": "code",
   "execution_count": null,
   "metadata": {},
   "outputs": [],
   "source": [
    "random_df.loc[:, ['A', 'B']]"
   ]
  },
  {
   "cell_type": "markdown",
   "metadata": {},
   "source": [
    "We can use this first `:` to also slice rows by label. \n",
    "\n",
    "The columns can also be a slice, instead of a list, which will give all columns between the 'start' and 'stop'."
   ]
  },
  {
   "cell_type": "code",
   "execution_count": null,
   "metadata": {},
   "outputs": [],
   "source": [
    "random_df.loc['2013-01-01':'2013-01-03', 'A':'D'] # row slice, then column slice"
   ]
  },
  {
   "cell_type": "markdown",
   "metadata": {},
   "source": [
    "Remember that the object types here depend on the shape of the output. For the above, we had dataframes.\n",
    "\n",
    "But indexing a single row (or column) is a Series."
   ]
  },
  {
   "cell_type": "code",
   "execution_count": null,
   "metadata": {},
   "outputs": [],
   "source": [
    "random_df.loc['20130102', ['A', 'B']]"
   ]
  },
  {
   "cell_type": "markdown",
   "metadata": {},
   "source": [
    "And accessing a single value is just that value's type."
   ]
  },
  {
   "cell_type": "code",
   "execution_count": null,
   "metadata": {},
   "outputs": [],
   "source": [
    "random_df.loc['20130102', 'A']"
   ]
  },
  {
   "cell_type": "markdown",
   "metadata": {},
   "source": [
    "`.loc` is extremely flexible, and can be manipulated to access any desired subset of the data if well constructed.\n",
    "\n",
    "### Selection by Numeric Index with `.iloc`\n",
    "\n",
    "`.iloc` is similar to `.loc`, but selects by the numeric index.\n",
    "\n",
    "Indexing with `.iloc` is extremely similar to indexing NumPy arrays (or native Python arrays).\n",
    "\n",
    "Ex: index 4th row (index value 3, because indexes start at 0)"
   ]
  },
  {
   "cell_type": "code",
   "execution_count": null,
   "metadata": {},
   "outputs": [],
   "source": [
    "random_df.iloc[3]"
   ]
  },
  {
   "cell_type": "markdown",
   "metadata": {},
   "source": [
    "Slice specific rows and columns."
   ]
  },
  {
   "cell_type": "code",
   "execution_count": null,
   "metadata": {},
   "outputs": [],
   "source": [
    "random_df.iloc[3:5, 0:2]"
   ]
  },
  {
   "cell_type": "markdown",
   "metadata": {},
   "source": [
    "Slice specific columns with all rows."
   ]
  },
  {
   "cell_type": "code",
   "execution_count": null,
   "metadata": {},
   "outputs": [],
   "source": [
    "random_df.iloc[:, 0:2]"
   ]
  },
  {
   "cell_type": "markdown",
   "metadata": {},
   "source": [
    "### Selection by DataType:\n",
    "\n",
    "The `select_dtypes()` method implements subsetting of columns based on their datatype.\n",
    "\n",
    "We pass a list of acceptable datatypes, and the method will return only the columns with that datatype."
   ]
  },
  {
   "cell_type": "code",
   "execution_count": null,
   "metadata": {},
   "outputs": [],
   "source": [
    "dtypes_df = pd.DataFrame({'string': list('abc'),\n",
    "                       'int64': list(range(1, 4)),\n",
    "                       'uint8': np.arange(3, 6).astype('u1'),\n",
    "                       'float64': np.arange(4.0, 7.0),\n",
    "                       'bool1': [True, False, True],\n",
    "                       'bool2': [False, True, False],\n",
    "                       'dates': pd.date_range('now', periods=3),\n",
    "                       'category': pd.Series(list(\"ABC\")).astype('category')})\n",
    "\n"
   ]
  },
  {
   "cell_type": "code",
   "execution_count": null,
   "metadata": {},
   "outputs": [],
   "source": [
    "dtypes_df.select_dtypes(include=[bool]) # just the `bool` columns"
   ]
  },
  {
   "cell_type": "markdown",
   "metadata": {},
   "source": [
    "### Boolean Indexing \n",
    "\n",
    "We can also use Boolean indexes to filter data based on a condition.\n",
    "\n",
    "Below, we use `>= 0` to give us a Boolean vector corresponding to the values of `A` greater than or equal to 0."
   ]
  },
  {
   "cell_type": "code",
   "execution_count": null,
   "metadata": {},
   "outputs": [],
   "source": [
    "random_df['A'] >= 0"
   ]
  },
  {
   "cell_type": "markdown",
   "metadata": {},
   "source": [
    "If we filter `random_df` using this boolean vector (sometimes called a 'mask'), we get only the `True` values (>= 0)."
   ]
  },
  {
   "cell_type": "code",
   "execution_count": null,
   "metadata": {},
   "outputs": [],
   "source": [
    "random_df[random_df['A'] >= 0]"
   ]
  },
  {
   "cell_type": "markdown",
   "metadata": {},
   "source": [
    "We can also use `isin()` to check for specific values."
   ]
  },
  {
   "cell_type": "code",
   "execution_count": null,
   "metadata": {},
   "outputs": [],
   "source": [
    "random_df['E'] = ['one', 'two', 'three', 'two', 'five', 'ten'] # make a new column 'E' with these values\n",
    "random_df"
   ]
  },
  {
   "cell_type": "code",
   "execution_count": null,
   "metadata": {},
   "outputs": [],
   "source": [
    "random_df['E'].isin(['two', 'four']) # check if the values are 'two' or 'four'"
   ]
  },
  {
   "cell_type": "code",
   "execution_count": null,
   "metadata": {},
   "outputs": [],
   "source": [
    "random_df[random_df['E'].isin(['two', 'four'])] # filter for rows with 'two' or 'four' in 'E'"
   ]
  },
  {
   "cell_type": "markdown",
   "metadata": {},
   "source": [
    "### Setting Values\n",
    "\n",
    "As shown above when we made a new column 'E', we can also set values in the DataFrame.\n",
    "\n",
    "If we index a location of the dataframe that already exists, we will replace the current values with new ones.\n",
    "\n",
    "If we do something like specify a column that doesn't exist yet, we'll create that column!\n",
    "\n",
    "We can index the dataframe using any of the previously seen methods, i.e using `.loc` or `.iloc`\n",
    "\n",
    "You can also set multiple values at once (they 'broadcast')."
   ]
  },
  {
   "cell_type": "code",
   "execution_count": null,
   "metadata": {},
   "outputs": [],
   "source": [
    "random_df.iloc[0, 1] = 2 # set value at index [0,1] to 2\n",
    "random_df.loc['2013-01-02':'2013-01-04', 'B'] = -20 # replace all values of B from rows '2013-01-02' to '2013-01-04' with -20"
   ]
  },
  {
   "cell_type": "markdown",
   "metadata": {},
   "source": [
    "We can also use arrays (or lists) to replace sections of the dataframe.\n",
    "\n",
    "> Note 1: The dimensions need to line up to do this! You can't put a list or array of length 5 in a slice of length 6.\n",
    "\n",
    "> Note 2: If using an object like a list that can store multiple dtypes - make sure the datatypes are compatible with the column."
   ]
  },
  {
   "cell_type": "code",
   "execution_count": null,
   "metadata": {},
   "outputs": [],
   "source": [
    "random_df.loc[:, 'C'] = [5, 1, 3, 5, 6, 8] # replace all rows in column C with this list."
   ]
  },
  {
   "cell_type": "markdown",
   "metadata": {},
   "source": [
    "In this example, we're working entirely with column `C`, which is numeric, so all the list values should be numeric.\n",
    "\n",
    "Again, we can also make new columns by using square brackets."
   ]
  },
  {
   "cell_type": "code",
   "execution_count": null,
   "metadata": {},
   "outputs": [],
   "source": [
    "random_df['F'] = np.random.randn(6, 1) # new column of random values\n",
    "random_df['G'] = 10 # new column of all 10s"
   ]
  },
  {
   "cell_type": "markdown",
   "metadata": {},
   "source": [
    "For reference, we saved a copy of the original `random_df` at the start of this walkthrough.\n",
    "\n",
    "You can check through below to see all the changes we've made - see if you can account for each difference."
   ]
  },
  {
   "cell_type": "code",
   "execution_count": null,
   "metadata": {},
   "outputs": [],
   "source": [
    "random_df"
   ]
  },
  {
   "cell_type": "code",
   "execution_count": null,
   "metadata": {},
   "outputs": [],
   "source": [
    "random_df_original"
   ]
  },
  {
   "cell_type": "markdown",
   "metadata": {},
   "source": []
  },
  {
   "cell_type": "code",
   "execution_count": null,
   "metadata": {},
   "outputs": [],
   "source": []
  },
  {
   "cell_type": "code",
   "execution_count": null,
   "metadata": {},
   "outputs": [],
   "source": []
  },
  {
   "cell_type": "code",
   "execution_count": null,
   "metadata": {},
   "outputs": [],
   "source": []
  },
  {
   "cell_type": "markdown",
   "metadata": {},
   "source": []
  }
 ],
 "metadata": {
  "kernelspec": {
   "display_name": "Python 3 (ipykernel)",
   "language": "python",
   "name": "python3"
  },
  "language_info": {
   "codemirror_mode": {
    "name": "ipython",
    "version": 3
   },
   "file_extension": ".py",
   "mimetype": "text/x-python",
   "name": "python",
   "nbconvert_exporter": "python",
   "pygments_lexer": "ipython3",
   "version": "3.12.7"
  }
 },
 "nbformat": 4,
 "nbformat_minor": 4
}
