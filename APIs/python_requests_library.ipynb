{
 "cells": [
  {
   "cell_type": "markdown",
   "id": "05d14370",
   "metadata": {},
   "source": [
    "## Python Requests Library\n",
    "review tutorial in-depth later: https://realpython.com/python-requests/#the-get-request"
   ]
  },
  {
   "cell_type": "code",
   "execution_count": 1,
   "id": "4f6cc2bc",
   "metadata": {},
   "outputs": [
    {
     "data": {
      "text/plain": [
       "<Response [200]>"
      ]
     },
     "execution_count": 1,
     "metadata": {},
     "output_type": "execute_result"
    }
   ],
   "source": [
    "#import requests library\n",
    "import requests\n",
    "requests.get(\"https://api.github.com\") # test, should return [200] response if good"
   ]
  },
  {
   "cell_type": "markdown",
   "id": "b6cf1c18",
   "metadata": {},
   "source": [
    "## The Response"
   ]
  },
  {
   "cell_type": "code",
   "execution_count": 2,
   "id": "4ed4f6d4",
   "metadata": {},
   "outputs": [],
   "source": [
    "# store the response in a variable to further examine\n",
    "response = requests.get(\"https://api.github.com\")"
   ]
  },
  {
   "cell_type": "code",
   "execution_count": null,
   "id": "356a13f7",
   "metadata": {},
   "outputs": [
    {
     "data": {
      "text/plain": [
       "200"
      ]
     },
     "execution_count": 3,
     "metadata": {},
     "output_type": "execute_result"
    }
   ],
   "source": [
    "# .status_code allows you to view the status code of server\n",
    "response.status_code"
   ]
  },
  {
   "cell_type": "code",
   "execution_count": 4,
   "id": "f0963893",
   "metadata": {},
   "outputs": [
    {
     "name": "stdout",
     "output_type": "stream",
     "text": [
      "success!\n"
     ]
    }
   ],
   "source": [
    "if response.status_code == 200:\n",
    "    print(\"success!\")\n",
    "elif response.status_code == 404:\n",
    "    print(\"Not Found.\")"
   ]
  }
 ],
 "metadata": {
  "kernelspec": {
   "display_name": "base",
   "language": "python",
   "name": "python3"
  },
  "language_info": {
   "codemirror_mode": {
    "name": "ipython",
    "version": 3
   },
   "file_extension": ".py",
   "mimetype": "text/x-python",
   "name": "python",
   "nbconvert_exporter": "python",
   "pygments_lexer": "ipython3",
   "version": "3.12.7"
  }
 },
 "nbformat": 4,
 "nbformat_minor": 5
}
